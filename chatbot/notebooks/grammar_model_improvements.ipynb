{
 "cells": [
  {
   "cell_type": "code",
   "execution_count": 1,
   "metadata": {},
   "outputs": [],
   "source": [
    "from gramformer import Gramformer\n",
    "import torch\n",
    "import spacy\n",
    "import random"
   ]
  },
  {
   "cell_type": "markdown",
   "metadata": {},
   "source": [
    "### Original GrammarModel"
   ]
  },
  {
   "cell_type": "code",
   "execution_count": 48,
   "metadata": {},
   "outputs": [],
   "source": [
    "class GrammarModel(Gramformer):\n",
    "    \"\"\"\n",
    "    Grammar correction model.\n",
    "    \"\"\"\n",
    "    def __init__(self, models=1, use_gpu=False, seed=1212):\n",
    "        self.gm = super().__init__(models=1, use_gpu=False)\n",
    "\n",
    "\n",
    "    def grammar_correction(self,last_user_input):\n",
    "        \"\"\"\n",
    "        Generate a corrected sentence and a message to the user with the correction.\n",
    "        \"\"\"\n",
    "        corrected_sentence = self.correct(last_user_input, max_candidates=1)\n",
    "        corrected_sentence = list(corrected_sentence)[0]\n",
    "        message_styles = [\n",
    "            \"I think you meant: \",\n",
    "            \"Oh, you mean: \",\n",
    "            \"This would be better said like this: \"\n",
    "        ]\n",
    "\n",
    "        if corrected_sentence != last_user_input:\n",
    "            correction_message = f\"{random.choice(message_styles)} \\\"{corrected_sentence}\\\" \"\n",
    "        else:\n",
    "             correction_message = None\n",
    "\n",
    "        return corrected_sentence, correction_message\n",
    "\n",
    "\n",
    "    def add_correction_to_chat_history(self, chat_history):\n",
    "        \"\"\"\n",
    "        Append the message to the user to the chat history.\n",
    "        Return the corrected sentence.\n",
    "        \"\"\"\n",
    "        last_user_input = chat_history[-1].get('text')\n",
    "        corrected_sentence, correction_message = self.grammar_correction(last_user_input)\n",
    "        error_types = self.get_edits(last_user_input, corrected_sentence)\n",
    "\n",
    "        if correction_message:\n",
    "            chat_history.append(\n",
    "                {\n",
    "                    'sender': 'bot',\n",
    "                    'text': correction_message,\n",
    "                    'correction': True\n",
    "                }\n",
    "            )\n",
    "        return chat_history       \n",
    "\n",
    "\n",
    "    def _get_edits(self, input_sentence, corrected_sentence):\n",
    "        \"\"\"\n",
    "        Return the type of the error.\n",
    "        \"\"\"\n",
    "        input_sentence = self.annotator.parse(input_sentence)\n",
    "        corrected_sentence = self.annotator.parse(corrected_sentence)\n",
    "        alignment = self.annotator.align(input_sentence, corrected_sentence)\n",
    "        edits = self.annotator.merge(alignment)\n",
    "\n",
    "        if len(edits) == 0:  \n",
    "            return []\n",
    "\n",
    "        edit_annotations = []\n",
    "        for e in edits:\n",
    "            e = self.annotator.classify(e)\n",
    "            edit_annotations.append(e.type[2:])\n",
    "                \n",
    "        if len(edit_annotations) > 0:\n",
    "            return edit_annotations\n",
    "        else:    \n",
    "            return []"
   ]
  },
  {
   "cell_type": "code",
   "execution_count": 4,
   "metadata": {},
   "outputs": [
    {
     "name": "stdout",
     "output_type": "stream",
     "text": [
      "[Gramformer] Grammar error correct/highlight model loaded..\n"
     ]
    }
   ],
   "source": [
    "gm = GrammarModel(models = 1, use_gpu=False)"
   ]
  },
  {
   "cell_type": "markdown",
   "metadata": {},
   "source": [
    "### Showcase punctuation and casing errors (GrammarModel)"
   ]
  },
  {
   "cell_type": "code",
   "execution_count": 5,
   "metadata": {},
   "outputs": [],
   "source": [
    "# Example sentences\n",
    "ex1= \"Hi bot!\" # should not be corrected to \"Bot\"\n",
    "ex2= \"Hello\" # should not be corrected to \"Hello.\" or \"Hello!\""
   ]
  },
  {
   "cell_type": "code",
   "execution_count": 32,
   "metadata": {},
   "outputs": [],
   "source": [
    "error_types_ex1 = []\n",
    "error_types_ex2 = []\n",
    "corrected_sentences_ex1 = []\n",
    "corrected_sentences_ex2 = []"
   ]
  },
  {
   "cell_type": "code",
   "execution_count": 43,
   "metadata": {},
   "outputs": [
    {
     "name": "stdout",
     "output_type": "stream",
     "text": [
      "Hello. ['OTHER']\n"
     ]
    }
   ],
   "source": [
    "correct_sentence, message = gm.grammar_correction(ex2)\n",
    "corrected_sentences_ex2.append(correct_sentence)\n",
    "\n",
    "error_types = gm.get_edits(ex2, correct_sentence)\n",
    "error_types_ex2.extend(error_types)\n",
    "\n",
    "print(correct_sentence, error_types)"
   ]
  },
  {
   "cell_type": "code",
   "execution_count": 45,
   "metadata": {},
   "outputs": [
    {
     "name": "stdout",
     "output_type": "stream",
     "text": [
      "Original: Hi bot!\n",
      "Error Types: ['OTHER', 'ORTH', 'OTHER', 'NOUN', 'OTHER', 'OTHER', 'ORTH']\n",
      "Suggested Corrections: ['Hi Bi-Bo!', 'Hi Bot!', 'Hi!', 'Hello BOTH!', 'Hi Bot!', 'Hi bot!']\n"
     ]
    }
   ],
   "source": [
    "# summary of tracked errors for sentence ex1\n",
    "print(f\"Original: {ex1}\\nError Types: {error_types_ex1}\\nSuggested Corrections: {corrected_sentences_ex1}\")"
   ]
  },
  {
   "cell_type": "code",
   "execution_count": 46,
   "metadata": {},
   "outputs": [
    {
     "name": "stdout",
     "output_type": "stream",
     "text": [
      "Original: Hello\n",
      "Error Types: ['OTHER', 'OTHER', 'OTHER', 'OTHER', 'OTHER', 'OTHER']\n",
      "Suggested Corrections: ['Hello!', 'Hello.', 'Hello.', 'Hello.', 'Hello.', 'Hello.']\n"
     ]
    }
   ],
   "source": [
    "# summary of tracked errors for sentence ex2\n",
    "print(f\"Original: {ex2}\\nError Types: {error_types_ex2}\\nSuggested Corrections: {corrected_sentences_ex2}\")"
   ]
  },
  {
   "cell_type": "markdown",
   "metadata": {},
   "source": [
    "### Remove correction for error types ORTH, OTHER (and PUNCT?)"
   ]
  },
  {
   "cell_type": "code",
   "execution_count": 327,
   "metadata": {},
   "outputs": [],
   "source": [
    "class GrammarModel2(Gramformer):\n",
    "    \"\"\"\n",
    "    Grammar correction model.\n",
    "    \"\"\"\n",
    "    def __init__(self, models=1, use_gpu=False, seed=1212):\n",
    "        self.gm = super().__init__(models=1, use_gpu=False)\n",
    "        self.ignore_errors = ['OTHER', 'ORTH']\n",
    "\n",
    "\n",
    "    def grammar_correction(self,last_user_input):\n",
    "        \"\"\"\n",
    "        Generate a corrected sentence and a message to the user with the correction.\n",
    "        \"\"\"\n",
    "        corrected_sentence = self.correct(last_user_input, max_candidates=1)\n",
    "        corrected_sentence = list(corrected_sentence)[0]\n",
    "        message_styles = [\n",
    "            \"I think you meant: \",\n",
    "            \"Oh, you mean: \",\n",
    "            \"This would be better said like this: \"\n",
    "        ]\n",
    "\n",
    "        if corrected_sentence != last_user_input:\n",
    "            correction_message = f\"{random.choice(message_styles)} \\\"{corrected_sentence}\\\" \"\n",
    "        else:\n",
    "             correction_message = None\n",
    "\n",
    "        return corrected_sentence, correction_message\n",
    "\n",
    "\n",
    "    def add_correction_to_chat_history(self, chat_history):\n",
    "        \"\"\"\n",
    "        Append the message to the user to the chat history.\n",
    "        Return the corrected sentence.\n",
    "        \"\"\"\n",
    "        last_user_input = chat_history[-1].get('text')\n",
    "        corrected_sentence, correction_message = self.grammar_correction(last_user_input)\n",
    "        error_types = self.get_edits(last_user_input, corrected_sentence)\n",
    "        overlap_ignore_errors = any(item in error_types for item in self.ignore_errors)\n",
    "\n",
    "        if correction_message and (overlap_ignore_errors is False):\n",
    "            chat_history.append(\n",
    "                {\n",
    "                    'sender': 'bot',\n",
    "                    'text': correction_message,\n",
    "                    'correction': True,\n",
    "                    'error_type': error_types\n",
    "                }\n",
    "            )\n",
    "        return chat_history       \n",
    "\n",
    "\n",
    "    def _get_edits(self, input_sentence, corrected_sentence):\n",
    "        \"\"\"\n",
    "        Return the type of the error.\n",
    "        \"\"\"\n",
    "        input_sentence = self.annotator.parse(input_sentence)\n",
    "        corrected_sentence = self.annotator.parse(corrected_sentence)\n",
    "        alignment = self.annotator.align(input_sentence, corrected_sentence)\n",
    "        edits = self.annotator.merge(alignment)\n",
    "\n",
    "        if len(edits) == 0:  \n",
    "            return []\n",
    "\n",
    "        edit_annotations = []\n",
    "        for e in edits:\n",
    "            e = self.annotator.classify(e)\n",
    "            edit_annotations.append(e.type[2:])\n",
    "                \n",
    "        if len(edit_annotations) > 0:\n",
    "            return edit_annotations\n",
    "        else:    \n",
    "            return []"
   ]
  },
  {
   "cell_type": "code",
   "execution_count": 328,
   "metadata": {},
   "outputs": [
    {
     "name": "stdout",
     "output_type": "stream",
     "text": [
      "[Gramformer] Grammar error correct/highlight model loaded..\n"
     ]
    }
   ],
   "source": [
    "gm2 = GrammarModel2(models=1, use_gpu=False)"
   ]
  },
  {
   "cell_type": "code",
   "execution_count": 341,
   "metadata": {},
   "outputs": [],
   "source": [
    "chat_history_ex1 = [{'sender': 'User', 'text': 'Hi bot'}]"
   ]
  },
  {
   "cell_type": "code",
   "execution_count": 342,
   "metadata": {},
   "outputs": [],
   "source": [
    "chat_history = gm2.add_correction_to_chat_history(chat_history_ex1)"
   ]
  },
  {
   "cell_type": "code",
   "execution_count": 343,
   "metadata": {},
   "outputs": [
    {
     "data": {
      "text/plain": [
       "[{'sender': 'User', 'text': 'Hi bot'},\n",
       " {'sender': 'bot',\n",
       "  'text': 'This would be better said like this:  \"Hi booch!\" ',\n",
       "  'correction': True,\n",
       "  'error_type': ['NOUN']}]"
      ]
     },
     "execution_count": 343,
     "metadata": {},
     "output_type": "execute_result"
    }
   ],
   "source": [
    "chat_history"
   ]
  },
  {
   "cell_type": "code",
   "execution_count": null,
   "metadata": {},
   "outputs": [],
   "source": []
  },
  {
   "cell_type": "code",
   "execution_count": null,
   "metadata": {},
   "outputs": [],
   "source": []
  }
 ],
 "metadata": {
  "kernelspec": {
   "display_name": "chatbot",
   "language": "python",
   "name": "chatbot"
  },
  "language_info": {
   "codemirror_mode": {
    "name": "ipython",
    "version": 3
   },
   "file_extension": ".py",
   "mimetype": "text/x-python",
   "name": "python",
   "nbconvert_exporter": "python",
   "pygments_lexer": "ipython3",
   "version": "3.9.7"
  },
  "orig_nbformat": 4
 },
 "nbformat": 4,
 "nbformat_minor": 2
}
