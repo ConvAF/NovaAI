{
 "cells": [
  {
   "cell_type": "code",
   "execution_count": 1,
   "metadata": {},
   "outputs": [],
   "source": [
    "from gramformer import Gramformer\n",
    "import torch\n",
    "import spacy\n",
    "import random"
   ]
  },
  {
   "cell_type": "code",
   "execution_count": 2,
   "metadata": {},
   "outputs": [],
   "source": [
    "class GrammarModel(Gramformer):\n",
    "    \"\"\"\n",
    "    Grammar correction model.\n",
    "    \"\"\"\n",
    "    def __init__(self, models=1, use_gpu=False, seed=1212):\n",
    "        self.gm = super().__init__(models=1, use_gpu=False)\n",
    "\n",
    "\n",
    "    def grammar_correction(self,last_user_input):\n",
    "        \"\"\"\n",
    "        Generate a corrected sentence and a message to the user with the correction.\n",
    "        \"\"\"\n",
    "        corrected_sentence = self.correct(last_user_input, max_candidates=1)\n",
    "        corrected_sentence = list(corrected_sentence)[0]\n",
    "        message_styles = [\n",
    "            \"I think you meant: \",\n",
    "            \"Oh, you mean: \",\n",
    "            \"This would be better said like this: \"\n",
    "        ]\n",
    "\n",
    "        if corrected_sentence != last_user_input:\n",
    "            correction_message = f\"{random.choice(message_styles)} \\\"{corrected_sentence}\\\" \"\n",
    "        else:\n",
    "             correction_message = None\n",
    "\n",
    "        return corrected_sentence, correction_message\n",
    "\n",
    "\n",
    "    def add_correction_to_chat_history(self, chat_history):\n",
    "        \"\"\"\n",
    "        Append the message to the user to the chat history.\n",
    "        Return the corrected sentence.\n",
    "        \"\"\"\n",
    "        last_user_input = chat_history[-1].get('text')\n",
    "        corrected_sentence, correction_message = self.grammar_correction(last_user_input)\n",
    "        error_types = self.get_edits(last_user_input, corrected_sentence)\n",
    "\n",
    "        if correction_message:\n",
    "            chat_history.append(\n",
    "                {\n",
    "                    'sender': 'bot',\n",
    "                    'text': correction_message,\n",
    "                    'correction': True\n",
    "                }\n",
    "            )\n",
    "        return chat_history       \n",
    "\n",
    "\n",
    "    def _get_edits(self, input_sentence, corrected_sentence):\n",
    "        \"\"\"\n",
    "        Return the type of the error.\n",
    "        \"\"\"\n",
    "        input_sentence = self.annotator.parse(input_sentence)\n",
    "        corrected_sentence = self.annotator.parse(corrected_sentence)\n",
    "        alignment = self.annotator.align(input_sentence, corrected_sentence)\n",
    "        edits = self.annotator.merge(alignment)\n",
    "\n",
    "        if len(edits) == 0:  \n",
    "            return []\n",
    "\n",
    "        edit_annotations = []\n",
    "        for e in edits:\n",
    "            e = self.annotator.classify(e)\n",
    "            edit_annotations.append(e.type[2:])\n",
    "                \n",
    "        if len(edit_annotations) > 0:\n",
    "            return edit_annotations\n",
    "        else:    \n",
    "            return []"
   ]
  },
  {
   "cell_type": "code",
   "execution_count": 4,
   "metadata": {},
   "outputs": [
    {
     "name": "stdout",
     "output_type": "stream",
     "text": [
      "[Gramformer] Grammar error correct/highlight model loaded..\n"
     ]
    }
   ],
   "source": [
    "gm = GrammarModel(models = 1, use_gpu=False)"
   ]
  },
  {
   "cell_type": "markdown",
   "metadata": {},
   "source": [
    "### Remove punctuation and casing errors"
   ]
  },
  {
   "cell_type": "code",
   "execution_count": 5,
   "metadata": {},
   "outputs": [],
   "source": [
    "# Example sentences\n",
    "ex1= \"Hi bot!\" # should not be corrected to \"Bot\"\n",
    "ex2= \"Hello\" # should not be corrected to \"Hello.\" or \"Hello!\""
   ]
  },
  {
   "cell_type": "code",
   "execution_count": 24,
   "metadata": {},
   "outputs": [],
   "source": [
    "error_types_ex1 = ['OTHER', 'ORTH', 'OTHER', 'NOUN']\n",
    "error_types_ex2 = []\n",
    "corrected_sentences_ex1 = ['Hi Bi-Bo!', 'Hi Bot!', 'Hi!' ]\n",
    "corrected_sentences_ex2 = []"
   ]
  },
  {
   "cell_type": "code",
   "execution_count": 23,
   "metadata": {},
   "outputs": [
    {
     "ename": "NameError",
     "evalue": "name 'correct_sentences_ex1' is not defined",
     "output_type": "error",
     "traceback": [
      "\u001b[0;31m---------------------------------------------------------------------------\u001b[0m",
      "\u001b[0;31mNameError\u001b[0m                                 Traceback (most recent call last)",
      "\u001b[1;32m/Users/alois/Desktop/DSR/Project/chatbot/chatbot/notebooks/grammar_model_improvements.ipynb Cell 7'\u001b[0m in \u001b[0;36m<cell line: 2>\u001b[0;34m()\u001b[0m\n\u001b[1;32m      <a href='vscode-notebook-cell:/Users/alois/Desktop/DSR/Project/chatbot/chatbot/notebooks/grammar_model_improvements.ipynb#ch0000003?line=0'>1</a>\u001b[0m correct_sentence, message \u001b[39m=\u001b[39m gm\u001b[39m.\u001b[39mgrammar_correction(ex1)\n\u001b[0;32m----> <a href='vscode-notebook-cell:/Users/alois/Desktop/DSR/Project/chatbot/chatbot/notebooks/grammar_model_improvements.ipynb#ch0000003?line=1'>2</a>\u001b[0m correct_sentences_ex1\u001b[39m.\u001b[39mextend(correct_sentence)\n\u001b[1;32m      <a href='vscode-notebook-cell:/Users/alois/Desktop/DSR/Project/chatbot/chatbot/notebooks/grammar_model_improvements.ipynb#ch0000003?line=3'>4</a>\u001b[0m error_types \u001b[39m=\u001b[39m gm\u001b[39m.\u001b[39mget_edits(ex1, correct_sentence)\n\u001b[1;32m      <a href='vscode-notebook-cell:/Users/alois/Desktop/DSR/Project/chatbot/chatbot/notebooks/grammar_model_improvements.ipynb#ch0000003?line=4'>5</a>\u001b[0m error_types_ex1\u001b[39m.\u001b[39mextend(error_types)\n",
      "\u001b[0;31mNameError\u001b[0m: name 'correct_sentences_ex1' is not defined"
     ]
    }
   ],
   "source": [
    "correct_sentence, message = gm.grammar_correction(ex1)\n",
    "correct_sentences_ex1.extend(correct_sentence)\n",
    "\n",
    "error_types = gm.get_edits(ex1, correct_sentence)\n",
    "error_types_ex1.extend(error_types)\n",
    "\n",
    "print(correct_sentence, error_types)"
   ]
  },
  {
   "cell_type": "code",
   "execution_count": 22,
   "metadata": {},
   "outputs": [
    {
     "data": {
      "text/plain": [
       "['OTHER', 'NOUN']"
      ]
     },
     "execution_count": 22,
     "metadata": {},
     "output_type": "execute_result"
    }
   ],
   "source": [
    "\n",
    "error_types"
   ]
  },
  {
   "cell_type": "code",
   "execution_count": 20,
   "metadata": {},
   "outputs": [
    {
     "data": {
      "text/plain": [
       "['OTHER', 'ORTH']"
      ]
     },
     "execution_count": 20,
     "metadata": {},
     "output_type": "execute_result"
    }
   ],
   "source": [
    "error_types_ex1"
   ]
  },
  {
   "cell_type": "code",
   "execution_count": null,
   "metadata": {},
   "outputs": [],
   "source": []
  }
 ],
 "metadata": {
  "kernelspec": {
   "display_name": "chatbot",
   "language": "python",
   "name": "chatbot"
  },
  "language_info": {
   "codemirror_mode": {
    "name": "ipython",
    "version": 3
   },
   "file_extension": ".py",
   "mimetype": "text/x-python",
   "name": "python",
   "nbconvert_exporter": "python",
   "pygments_lexer": "ipython3",
   "version": "3.9.7"
  },
  "orig_nbformat": 4
 },
 "nbformat": 4,
 "nbformat_minor": 2
}
