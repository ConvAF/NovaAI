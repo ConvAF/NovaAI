{
 "cells": [
  {
   "cell_type": "markdown",
   "metadata": {},
   "source": [
    "# Parlai Tutorial\n",
    "\n",
    "https://parl.ai/docs/tutorial_basic.html"
   ]
  },
  {
   "cell_type": "markdown",
   "metadata": {},
   "source": [
    "Basic interaction:\n",
    "\n",
    "```python\n",
    "query = teacher.act()\n",
    "student.observe(query)\n",
    "reply = student.act()\n",
    "teacher.observe(reply)\n",
    "```"
   ]
  },
  {
   "cell_type": "markdown",
   "metadata": {},
   "source": []
  },
  {
   "cell_type": "code",
   "execution_count": 1,
   "metadata": {},
   "outputs": [],
   "source": [
    "from parlai.core.agents import Agent\n",
    "from parlai.core.params import ParlaiParser\n",
    "from parlai.core.worlds import create_task"
   ]
  },
  {
   "cell_type": "code",
   "execution_count": 2,
   "metadata": {},
   "outputs": [],
   "source": [
    "class RepeatLabelAgent(Agent):\n",
    "    def __init__(self, opt):\n",
    "        self.id = 'RepeatLabel'\n",
    "    def observe(self, observation):\n",
    "        self.observation = observation\n",
    "        return observation\n",
    "    def act(self):\n",
    "        reply = {'id': self.id}\n",
    "        if 'labels' in self.observation:\n",
    "            reply['text'] = ', '.join(self.observation['labels'])\n",
    "        else:\n",
    "            reply['text'] = \"I don't know.\"\n",
    "        return reply"
   ]
  },
  {
   "cell_type": "code",
   "execution_count": 23,
   "metadata": {},
   "outputs": [],
   "source": [
    "standard_opt = {'init_opt': None, 'allow_missing_init_opts': False, 'task': None, 'download_path': None, 'loglevel': 'info', 'datatype': 'train', 'image_mode': 'raw', 'hide_labels': False, 'multitask_weights': [1], 'batchsize': 1, 'dynamic_batching': None, 'verbose': False, 'is_debug': False, 'datapath': '/Users/frank/miniforge3/envs/chatbot/lib/python3.9/site-packages/data', 'image_size': 256, 'image_cropsize': 224, 'parlai_home': '/Users/frank/miniforge3/envs/chatbot/lib/python3.9/site-packages', 'override': {}, 'starttime': 'Mar16_11-11'}"
   ]
  },
  {
   "cell_type": "code",
   "execution_count": 17,
   "metadata": {},
   "outputs": [
    {
     "data": {
      "text/plain": [
       "{'test': 1}"
      ]
     },
     "execution_count": 17,
     "metadata": {},
     "output_type": "execute_result"
    }
   ],
   "source": [
    "from parlai.core.opt import Opt\n",
    "\n",
    "opt = Opt()\n",
    "opt[\"test\"] = 1\n",
    "opt"
   ]
  },
  {
   "cell_type": "code",
   "execution_count": 11,
   "metadata": {},
   "outputs": [
    {
     "name": "stdout",
     "output_type": "stream",
     "text": [
      "\u001b[0;31mSignature:\u001b[0m \u001b[0mparser\u001b[0m\u001b[0;34m.\u001b[0m\u001b[0mget_default\u001b[0m\u001b[0;34m(\u001b[0m\u001b[0mdest\u001b[0m\u001b[0;34m)\u001b[0m\u001b[0;34m\u001b[0m\u001b[0;34m\u001b[0m\u001b[0m\n",
      "\u001b[0;31mDocstring:\u001b[0m <no docstring>\n",
      "\u001b[0;31mFile:\u001b[0m      ~/miniforge3/envs/chatbot/lib/python3.9/argparse.py\n",
      "\u001b[0;31mType:\u001b[0m      method\n"
     ]
    }
   ],
   "source": [
    "parser.get_default?"
   ]
  },
  {
   "cell_type": "code",
   "execution_count": 8,
   "metadata": {},
   "outputs": [
    {
     "name": "stdout",
     "output_type": "stream",
     "text": [
      "\u001b[0;31mSignature:\u001b[0m \u001b[0mparser\u001b[0m\u001b[0;34m.\u001b[0m\u001b[0mparse_args\u001b[0m\u001b[0;34m(\u001b[0m\u001b[0margs\u001b[0m\u001b[0;34m=\u001b[0m\u001b[0;32mNone\u001b[0m\u001b[0;34m,\u001b[0m \u001b[0mnamespace\u001b[0m\u001b[0;34m=\u001b[0m\u001b[0;32mNone\u001b[0m\u001b[0;34m,\u001b[0m \u001b[0;34m**\u001b[0m\u001b[0mkwargs\u001b[0m\u001b[0;34m)\u001b[0m\u001b[0;34m\u001b[0m\u001b[0;34m\u001b[0m\u001b[0m\n",
      "\u001b[0;31mDocstring:\u001b[0m\n",
      "Parse the provided arguments and returns a dictionary of the ``args``.\n",
      "\n",
      "We specifically remove items with ``None`` as values in order to support the\n",
      "style ``opt.get(key, default)``, which would otherwise return ``None``.\n",
      "\u001b[0;31mFile:\u001b[0m      ~/miniforge3/envs/chatbot/lib/python3.9/site-packages/parlai/core/params.py\n",
      "\u001b[0;31mType:\u001b[0m      method\n"
     ]
    }
   ],
   "source": [
    "parser.parse_args?"
   ]
  },
  {
   "cell_type": "code",
   "execution_count": 20,
   "metadata": {},
   "outputs": [
    {
     "data": {
      "text/plain": [
       "{'a': 1}"
      ]
     },
     "execution_count": 20,
     "metadata": {},
     "output_type": "execute_result"
    }
   ],
   "source": [
    "Opt({'a': 1})"
   ]
  },
  {
   "cell_type": "code",
   "execution_count": 31,
   "metadata": {},
   "outputs": [
    {
     "name": "stdout",
     "output_type": "stream",
     "text": [
      "11:39:40 | creating task(s): babi\n",
      "11:39:40 | loading fbdialog data: /Users/frank/miniforge3/envs/chatbot/lib/python3.9/site-packages/data/bAbI/tasks_1-20_v1-2/en-valid-nosf/qa1_train.txt\n",
      "11:39:40 | loading fbdialog data: /Users/frank/miniforge3/envs/chatbot/lib/python3.9/site-packages/data/bAbI/tasks_1-20_v1-2/en-valid-nosf/qa2_train.txt\n",
      "11:39:40 | loading fbdialog data: /Users/frank/miniforge3/envs/chatbot/lib/python3.9/site-packages/data/bAbI/tasks_1-20_v1-2/en-valid-nosf/qa3_train.txt\n",
      "11:39:41 | loading fbdialog data: /Users/frank/miniforge3/envs/chatbot/lib/python3.9/site-packages/data/bAbI/tasks_1-20_v1-2/en-valid-nosf/qa4_train.txt\n",
      "11:39:41 | loading fbdialog data: /Users/frank/miniforge3/envs/chatbot/lib/python3.9/site-packages/data/bAbI/tasks_1-20_v1-2/en-valid-nosf/qa5_train.txt\n",
      "11:39:41 | loading fbdialog data: /Users/frank/miniforge3/envs/chatbot/lib/python3.9/site-packages/data/bAbI/tasks_1-20_v1-2/en-valid-nosf/qa6_train.txt\n",
      "11:39:41 | loading fbdialog data: /Users/frank/miniforge3/envs/chatbot/lib/python3.9/site-packages/data/bAbI/tasks_1-20_v1-2/en-valid-nosf/qa7_train.txt\n",
      "11:39:41 | loading fbdialog data: /Users/frank/miniforge3/envs/chatbot/lib/python3.9/site-packages/data/bAbI/tasks_1-20_v1-2/en-valid-nosf/qa8_train.txt\n",
      "11:39:41 | loading fbdialog data: /Users/frank/miniforge3/envs/chatbot/lib/python3.9/site-packages/data/bAbI/tasks_1-20_v1-2/en-valid-nosf/qa9_train.txt\n",
      "11:39:41 | loading fbdialog data: /Users/frank/miniforge3/envs/chatbot/lib/python3.9/site-packages/data/bAbI/tasks_1-20_v1-2/en-valid-nosf/qa10_train.txt\n",
      "11:39:41 | loading fbdialog data: /Users/frank/miniforge3/envs/chatbot/lib/python3.9/site-packages/data/bAbI/tasks_1-20_v1-2/en-valid-nosf/qa11_train.txt\n",
      "11:39:41 | loading fbdialog data: /Users/frank/miniforge3/envs/chatbot/lib/python3.9/site-packages/data/bAbI/tasks_1-20_v1-2/en-valid-nosf/qa12_train.txt\n",
      "11:39:41 | loading fbdialog data: /Users/frank/miniforge3/envs/chatbot/lib/python3.9/site-packages/data/bAbI/tasks_1-20_v1-2/en-valid-nosf/qa13_train.txt\n",
      "11:39:41 | loading fbdialog data: /Users/frank/miniforge3/envs/chatbot/lib/python3.9/site-packages/data/bAbI/tasks_1-20_v1-2/en-valid-nosf/qa14_train.txt\n",
      "11:39:41 | loading fbdialog data: /Users/frank/miniforge3/envs/chatbot/lib/python3.9/site-packages/data/bAbI/tasks_1-20_v1-2/en-valid-nosf/qa15_train.txt\n",
      "11:39:41 | loading fbdialog data: /Users/frank/miniforge3/envs/chatbot/lib/python3.9/site-packages/data/bAbI/tasks_1-20_v1-2/en-valid-nosf/qa16_train.txt\n",
      "11:39:41 | loading fbdialog data: /Users/frank/miniforge3/envs/chatbot/lib/python3.9/site-packages/data/bAbI/tasks_1-20_v1-2/en-valid-nosf/qa17_train.txt\n",
      "11:39:41 | loading fbdialog data: /Users/frank/miniforge3/envs/chatbot/lib/python3.9/site-packages/data/bAbI/tasks_1-20_v1-2/en-valid-nosf/qa18_train.txt\n",
      "11:39:41 | loading fbdialog data: /Users/frank/miniforge3/envs/chatbot/lib/python3.9/site-packages/data/bAbI/tasks_1-20_v1-2/en-valid-nosf/qa19_train.txt\n",
      "11:39:41 | loading fbdialog data: /Users/frank/miniforge3/envs/chatbot/lib/python3.9/site-packages/data/bAbI/tasks_1-20_v1-2/en-valid-nosf/qa20_train.txt\n",
      "\u001b[0;34m[babi:Task1k:1]:\u001b[0;0m \u001b[1mDaniel travelled to the kitchen.\n",
      "Daniel travelled to the hallway.\n",
      "Where is Daniel?\u001b[0;0m\n",
      "\u001b[0;34m[labels]:\u001b[0;0m \u001b[1;94mhallway\u001b[0;0m\n",
      "   \u001b[0;34m[RepeatLabel]:\u001b[0;0m \u001b[1;94mhallway\u001b[0;0m\n",
      "\u001b[0;34m[babi:Task1k:1]:\u001b[0;0m \u001b[1mJohn moved to the hallway.\n",
      "Mary went to the hallway.\n",
      "Where is Daniel?\u001b[0;0m\n",
      "\u001b[0;34m[labels]:\u001b[0;0m \u001b[1;94mhallway\u001b[0;0m\n",
      "   \u001b[0;34m[RepeatLabel]:\u001b[0;0m \u001b[1;94mhallway\u001b[0;0m\n",
      "\u001b[0;34m[babi:Task1k:1]:\u001b[0;0m \u001b[1mDaniel journeyed to the office.\n",
      "Daniel journeyed to the kitchen.\n",
      "Where is Daniel?\u001b[0;0m\n",
      "\u001b[0;34m[labels]:\u001b[0;0m \u001b[1;94mkitchen\u001b[0;0m\n",
      "   \u001b[0;34m[RepeatLabel]:\u001b[0;0m \u001b[1;94mkitchen\u001b[0;0m\n",
      "\u001b[0;34m[babi:Task1k:1]:\u001b[0;0m \u001b[1mMary moved to the office.\n",
      "Mary went to the bedroom.\n",
      "Where is Daniel?\u001b[0;0m\n",
      "\u001b[0;34m[labels]:\u001b[0;0m \u001b[1;94mkitchen\u001b[0;0m\n",
      "   \u001b[0;34m[RepeatLabel]:\u001b[0;0m \u001b[1;94mkitchen\u001b[0;0m\n",
      "\u001b[1;31m- - - - - - - END OF EPISODE - - - - - - - - - -\u001b[0;0m\n",
      "\u001b[0;34m[babi:Task1k:19]:\u001b[0;0m \u001b[1mThe bedroom is east of the bathroom.\n",
      "The kitchen is west of the bathroom.\n",
      "The hallway is south of the bedroom.\n",
      "The office is north of the bedroom.\n",
      "The garden is north of the bathroom.\n",
      "How do you go from the bathroom to the office?\u001b[0;0m\n",
      "\u001b[0;34m[labels]:\u001b[0;0m \u001b[1;94me n\u001b[0;0m\n",
      "   \u001b[0;34m[RepeatLabel]:\u001b[0;0m \u001b[1;94me n\u001b[0;0m\n",
      "\u001b[1;31m- - - - - - - END OF EPISODE - - - - - - - - - -\u001b[0;0m\n",
      "\u001b[0;34m[babi:Task1k:1]:\u001b[0;0m \u001b[1mDaniel moved to the bedroom.\n",
      "John went back to the garden.\n",
      "Where is Daniel?\u001b[0;0m\n",
      "\u001b[0;34m[labels]:\u001b[0;0m \u001b[1;94mbedroom\u001b[0;0m\n",
      "   \u001b[0;34m[RepeatLabel]:\u001b[0;0m \u001b[1;94mbedroom\u001b[0;0m\n",
      "\u001b[0;34m[babi:Task1k:1]:\u001b[0;0m \u001b[1mJohn travelled to the bathroom.\n",
      "John travelled to the garden.\n",
      "Where is John?\u001b[0;0m\n",
      "\u001b[0;34m[labels]:\u001b[0;0m \u001b[1;94mgarden\u001b[0;0m\n",
      "   \u001b[0;34m[RepeatLabel]:\u001b[0;0m \u001b[1;94mgarden\u001b[0;0m\n",
      "\u001b[0;34m[babi:Task1k:1]:\u001b[0;0m \u001b[1mJohn went to the kitchen.\n",
      "Daniel journeyed to the garden.\n",
      "Where is Daniel?\u001b[0;0m\n",
      "\u001b[0;34m[labels]:\u001b[0;0m \u001b[1;94mgarden\u001b[0;0m\n",
      "   \u001b[0;34m[RepeatLabel]:\u001b[0;0m \u001b[1;94mgarden\u001b[0;0m\n",
      "\u001b[0;34m[babi:Task1k:1]:\u001b[0;0m \u001b[1mJohn went back to the garden.\n",
      "Sandra went back to the kitchen.\n",
      "Where is John?\u001b[0;0m\n",
      "\u001b[0;34m[labels]:\u001b[0;0m \u001b[1;94mgarden\u001b[0;0m\n",
      "   \u001b[0;34m[RepeatLabel]:\u001b[0;0m \u001b[1;94mgarden\u001b[0;0m\n",
      "\u001b[0;34m[babi:Task1k:1]:\u001b[0;0m \u001b[1mDaniel journeyed to the hallway.\n",
      "Daniel moved to the bathroom.\n",
      "Where is Daniel?\u001b[0;0m\n",
      "\u001b[0;34m[labels]:\u001b[0;0m \u001b[1;94mbathroom\u001b[0;0m\n",
      "   \u001b[0;34m[RepeatLabel]:\u001b[0;0m \u001b[1;94mbathroom\u001b[0;0m\n",
      "\u001b[1;31m- - - - - - - END OF EPISODE - - - - - - - - - -\u001b[0;0m\n"
     ]
    }
   ],
   "source": [
    "# parser = ParlaiParser()\n",
    "# opt = parser.parse_args()\n",
    "\n",
    "from parlai.core.opt import Opt\n",
    "\n",
    "# opt = Opt({\n",
    "#         'task': None\n",
    "# })\n",
    "opt = Opt(standard_opt)\n",
    "opt['task'] = 'babi'\n",
    "\n",
    "agent = RepeatLabelAgent(opt)\n",
    "world = create_task(opt, agent)\n",
    "\n",
    "world.parley()\n",
    "for _ in range(10):\n",
    "    world.parley()\n",
    "    print(world.display())\n",
    "    if world.epoch_done():\n",
    "        print('EPOCH DONE')\n",
    "        break"
   ]
  },
  {
   "cell_type": "code",
   "execution_count": 27,
   "metadata": {},
   "outputs": [],
   "source": [
    "world.parley()"
   ]
  },
  {
   "cell_type": "code",
   "execution_count": 29,
   "metadata": {},
   "outputs": [
    {
     "name": "stdout",
     "output_type": "stream",
     "text": [
      "\u001b[0;34m[babi:Task1k:7]:\u001b[0;0m \u001b[1mJohn went to the hallway.\n",
      "Daniel went back to the kitchen.\n",
      "Sandra moved to the kitchen.\n",
      "Sandra moved to the bedroom.\n",
      "Sandra took the milk there.\n",
      "Sandra put down the milk.\n",
      "How many objects is Sandra carrying?\u001b[0;0m\n",
      "\u001b[0;34m[labels]:\u001b[0;0m \u001b[1;94mnone\u001b[0;0m\n",
      "   \u001b[0;34m[RepeatLabel]:\u001b[0;0m \u001b[1;94mnone\u001b[0;0m\n"
     ]
    }
   ],
   "source": [
    "print(world.display())"
   ]
  },
  {
   "cell_type": "code",
   "execution_count": 34,
   "metadata": {},
   "outputs": [],
   "source": [
    "from parlai.core.agents import load_agent_module"
   ]
  },
  {
   "cell_type": "markdown",
   "metadata": {},
   "source": []
  },
  {
   "cell_type": "code",
   "execution_count": null,
   "metadata": {},
   "outputs": [],
   "source": [
    "from parlai.agents.seq2seq.module"
   ]
  },
  {
   "cell_type": "code",
   "execution_count": 39,
   "metadata": {},
   "outputs": [
    {
     "data": {
      "text/plain": [
       "parlai.agents.transformer.transformer.TransformerGeneratorAgent"
      ]
     },
     "execution_count": 39,
     "metadata": {},
     "output_type": "execute_result"
    }
   ],
   "source": [
    "load_agent_module('transformer/generator')"
   ]
  },
  {
   "cell_type": "code",
   "execution_count": null,
   "metadata": {},
   "outputs": [],
   "source": [
    "# --model transformer/generator"
   ]
  },
  {
   "cell_type": "code",
   "execution_count": 48,
   "metadata": {},
   "outputs": [
    {
     "name": "stdout",
     "output_type": "stream",
     "text": [
      "11:56:47 | Total parameters: 3,511,200 (2,896,800 trainable)\n"
     ]
    },
    {
     "data": {
      "text/plain": [
       "<parlai.agents.transformer.transformer.TransformerGeneratorAgent at 0x147e8e670>"
      ]
     },
     "execution_count": 48,
     "metadata": {},
     "output_type": "execute_result"
    }
   ],
   "source": [
    "from parlai.core.agents import create_agent\n",
    "opt = Opt({\n",
    "        'task': None,\n",
    "        'model': 'transformer/generator',\n",
    "        # 'init-model': 'zoo:blender/blenderbot_90M'\n",
    "})\n",
    "\n",
    "agent = create_agent(opt)\n",
    "agent"
   ]
  },
  {
   "cell_type": "markdown",
   "metadata": {},
   "source": []
  }
 ],
 "metadata": {
  "interpreter": {
   "hash": "cc8015e61a03201b035b34b1113fcdaafe270f77fdb5ef38e87d79416051dc2f"
  },
  "kernelspec": {
   "display_name": "Python 3.9.7 ('chatbot')",
   "language": "python",
   "name": "python3"
  },
  "language_info": {
   "codemirror_mode": {
    "name": "ipython",
    "version": 3
   },
   "file_extension": ".py",
   "mimetype": "text/x-python",
   "name": "python",
   "nbconvert_exporter": "python",
   "pygments_lexer": "ipython3",
   "version": "3.9.7"
  },
  "orig_nbformat": 4
 },
 "nbformat": 4,
 "nbformat_minor": 2
}
