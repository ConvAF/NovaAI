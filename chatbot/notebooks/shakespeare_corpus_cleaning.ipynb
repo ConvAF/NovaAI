{
 "cells": [
  {
   "cell_type": "markdown",
   "metadata": {},
   "source": [
    "## Shakespeare Corpus cleaning for fine tuning with GPT3"
   ]
  },
  {
   "cell_type": "code",
   "execution_count": 99,
   "metadata": {},
   "outputs": [
    {
     "name": "stdout",
     "output_type": "stream",
     "text": [
      "Collecting jsonlines\n",
      "  Downloading jsonlines-3.0.0-py3-none-any.whl (8.5 kB)\n",
      "Requirement already satisfied: attrs>=19.2.0 in /Users/alois/Desktop/DSR/Project/chatbot/venv/lib/python3.9/site-packages (from jsonlines) (21.4.0)\n",
      "Installing collected packages: jsonlines\n",
      "Successfully installed jsonlines-3.0.0\n",
      "Note: you may need to restart the kernel to use updated packages.\n"
     ]
    }
   ],
   "source": [
    "#pip install jsonlines"
   ]
  },
  {
   "cell_type": "code",
   "execution_count": 100,
   "metadata": {},
   "outputs": [],
   "source": [
    "import re\n",
    "from statistics import mean\n",
    "import json\n",
    "import jsonlines"
   ]
  },
  {
   "cell_type": "markdown",
   "metadata": {},
   "source": [
    "## Import corpus"
   ]
  },
  {
   "cell_type": "code",
   "execution_count": 147,
   "metadata": {},
   "outputs": [],
   "source": [
    "# import Hamlet\n",
    "with open('../data/Hamlet.txt') as f:\n",
    "    hamlet = f.readlines()\n",
    "\n",
    "# import MacBeth\n",
    "with open('../data/Macbeth.txt') as f:\n",
    "    macbeth = f.readlines()"
   ]
  },
  {
   "cell_type": "markdown",
   "metadata": {},
   "source": [
    "## Preprocessing"
   ]
  },
  {
   "cell_type": "code",
   "execution_count": 151,
   "metadata": {},
   "outputs": [],
   "source": [
    "def clean_prep_corpus(corpus):\n",
    "    # remove irrelevant lines\n",
    "    for line in corpus:\n",
    "        filter_caps = re.match(\"[A-Z].*[A-Z]\", line) # match character name in all caps, \"ACT\", \"SCENE\".\n",
    "        filter_brackets = re.match(\"\\s\\[([^]]+)\\]\", line) # match stage directions - between brackets.\n",
    "        if filter_caps or filter_brackets:\n",
    "            corpus.remove(line)\n",
    "\n",
    "    # remove new lines\n",
    "    while '\\n' in corpus:\n",
    "        corpus.remove('\\n')\n",
    "\n",
    "    # add one white space at the beggining of each line (necessary for fine tuning with openAI)\n",
    "    corpus = [ ' {}'.format(line) for line in corpus]\n",
    "\n",
    "    print(f\"Cleaned corpus sample:\\n\\n{corpus[:50]}\")\n",
    "    return corpus\n",
    "\n",
    "\n",
    "def get_corpus_metrics(cleaned_corpus, corpus_name):\n",
    "    # tokenize corpus\n",
    "    tokenized_corpus = []\n",
    "    total_token_number = 0\n",
    "    for lines in cleaned_corpus:\n",
    "        tokens = lines.split()\n",
    "        tokenized_corpus.extend(tokens)\n",
    "        total_token_number += len(tokens)\n",
    "\n",
    "    avg = total_token_number / len(cleaned_corpus)\n",
    "\n",
    "    print(f\"\\nTokenized corpus sample:\\n\\n{tokenized_corpus[:50]}\")\n",
    "    print(f\"\\nMetrics\\n\\nThe cleaned {corpus_name} corpus has a total of {len(cleaned_corpus)} lines and {len(tokenized_corpus)} tokens.\\nThe lines have an average of {avg} tokens.\")\n",
    "    "
   ]
  },
  {
   "cell_type": "markdown",
   "metadata": {},
   "source": [
    "### Hamlet"
   ]
  },
  {
   "cell_type": "code",
   "execution_count": 152,
   "metadata": {},
   "outputs": [
    {
     "name": "stdout",
     "output_type": "stream",
     "text": [
      "Cleaned corpus sample:\n",
      "\n",
      "['  Enter Francisco and Barnardo, two sentinels.\\n', ' Who’s there?\\n', ' Nay, answer me. Stand and unfold yourself.\\n', ' Long live the King!\\n', ' Barnardo?\\n', ' He.\\n', ' You come most carefully upon your hour.\\n', ' ’Tis now struck twelve. Get thee to bed, Francisco.\\n', ' For this relief much thanks. ’Tis bitter cold,\\n', ' Have you had quiet guard?\\n', ' Not a mouse stirring.\\n', ' Well, good night.\\n', ' The rivals of my watch, bid them make haste.\\n', '  Enter Horatio and Marcellus.\\n', ' I think I hear them. Stand, ho! Who is there?\\n', ' Friends to this ground.\\n', ' And liegemen to the Dane.\\n', ' Give you good night.\\n', ' O, farewell, honest soldier, who hath reliev’d you?\\n', ' Barnardo has my place. Give you good-night.\\n', ' Holla, Barnardo!\\n', ' Say, what, is Horatio there?\\n', ' A piece of him.\\n', ' Welcome, Horatio. Welcome, good Marcellus.\\n', ' What, has this thing appear’d again tonight?\\n', ' I have seen nothing.\\n', ' Horatio says ’tis but our fantasy,\\n', ' And will not let belief take hold of him\\n', ' Touching this dreaded sight, twice seen of us.\\n', ' With us to watch the minutes of this night,\\n', ' That if again this apparition come\\n', ' He may approve our eyes and speak to it.\\n', ' Tush, tush, ’twill not appear.\\n', ' Sit down awhile,\\n', ' And let us once again assail your ears,\\n', ' That are so fortified against our story,\\n', ' What we two nights have seen.\\n', ' Well, sit we down,\\n', ' Last night of all,\\n', ' When yond same star that’s westward from the pole,\\n', ' Had made his course t’illume that part of heaven\\n', ' The bell then beating one—\\n', ' Peace, break thee off. Look where it comes again.\\n', '  Enter Ghost.\\n', ' In the same figure, like the King that’s dead.\\n', ' Thou art a scholar; speak to it, Horatio.\\n', ' Looks it not like the King? Mark it, Horatio.\\n', ' Most like. It harrows me with fear and wonder.\\n', ' It would be spoke to.\\n', ' Question it, Horatio.\\n']\n",
      "\n",
      "Tokenized corpus sample:\n",
      "\n",
      "['Enter', 'Francisco', 'and', 'Barnardo,', 'two', 'sentinels.', 'Who’s', 'there?', 'Nay,', 'answer', 'me.', 'Stand', 'and', 'unfold', 'yourself.', 'Long', 'live', 'the', 'King!', 'Barnardo?', 'He.', 'You', 'come', 'most', 'carefully', 'upon', 'your', 'hour.', '’Tis', 'now', 'struck', 'twelve.', 'Get', 'thee', 'to', 'bed,', 'Francisco.', 'For', 'this', 'relief', 'much', 'thanks.', '’Tis', 'bitter', 'cold,', 'Have', 'you', 'had', 'quiet', 'guard?']\n",
      "\n",
      "Metrics\n",
      "\n",
      "The cleaned Hamlet corpus has a total of 3423 lines and 25760 tokens.\n",
      "The lines have an average of 7.525562372188139 tokens.\n"
     ]
    }
   ],
   "source": [
    "corpus = hamlet.copy()\n",
    "corpus_name = 'Hamlet'\n",
    "\n",
    "hamlet_clean = clean_prep_corpus(corpus)\n",
    "metrics = get_corpus_metrics(hamlet_clean, corpus_name)"
   ]
  },
  {
   "cell_type": "markdown",
   "metadata": {},
   "source": [
    "### Macbeth"
   ]
  },
  {
   "cell_type": "code",
   "execution_count": 153,
   "metadata": {},
   "outputs": [
    {
     "name": "stdout",
     "output_type": "stream",
     "text": [
      "Cleaned corpus sample:\n",
      "\n",
      "['  Thunder and Lightning. Enter three Witches.\\n', ' When shall we three meet again?\\n', ' In thunder, lightning, or in rain?\\n', ' When the hurlyburly’s done,\\n', ' When the battle’s lost and won.\\n', ' That will be ere the set of sun.\\n', ' Where the place?\\n', ' Upon the heath.\\n', ' There to meet with Macbeth.\\n', ' I come, Graymalkin!\\n', ' Paddock calls.\\n', ' Anon.\\n', ' Fair is foul, and foul is fair:\\n', ' Hover through the fog and filthy air.\\n', '  Alarum within. Enter King Duncan, Malcolm, Donalbain, Lennox, with\\n', '  Attendants, meeting a bleeding Captain.\\n', ' What bloody man is that? He can report,\\n', ' As seemeth by his plight, of the revolt\\n', ' The newest state.\\n', ' This is the sergeant\\n', ' Who, like a good and hardy soldier, fought\\n', ' ’Gainst my captivity.—Hail, brave friend!\\n', ' As thou didst leave it.\\n', ' Doubtful it stood;\\n', ' As two spent swimmers that do cling together\\n', ' (Worthy to be a rebel, for to that\\n', ' The multiplying villainies of nature\\n', ' Of kerns and gallowglasses is supplied;\\n', ' Show’d like a rebel’s whore. But all’s too weak;\\n', ' Disdaining Fortune, with his brandish’d steel,\\n', ' Which smok’d with bloody execution,\\n', ' Till he fac’d the slave;\\n', ' Which ne’er shook hands, nor bade farewell to him,\\n', ' Till he unseam’d him from the nave to the chops,\\n', ' And fix’d his head upon our battlements.\\n', ' O valiant cousin! worthy gentleman!\\n', ' As whence the sun ’gins his reflection\\n', ' Shipwracking storms and direful thunders break,\\n', ' So from that spring, whence comfort seem’d to come\\n', ' No sooner justice had, with valour arm’d,\\n', ' Compell’d these skipping kerns to trust their heels,\\n', ' With furbish’d arms and new supplies of men,\\n', ' Began a fresh assault.\\n', ' Dismay’d not this\\n', ' Yes;\\n', ' As sparrows eagles, or the hare the lion.\\n', ' As cannons overcharg’d with double cracks;\\n', ' So they\\n', ' Doubly redoubled strokes upon the foe:\\n', ' Except they meant to bathe in reeking wounds,\\n']\n",
      "\n",
      "Tokenized corpus sample:\n",
      "\n",
      "['Thunder', 'and', 'Lightning.', 'Enter', 'three', 'Witches.', 'When', 'shall', 'we', 'three', 'meet', 'again?', 'In', 'thunder,', 'lightning,', 'or', 'in', 'rain?', 'When', 'the', 'hurlyburly’s', 'done,', 'When', 'the', 'battle’s', 'lost', 'and', 'won.', 'That', 'will', 'be', 'ere', 'the', 'set', 'of', 'sun.', 'Where', 'the', 'place?', 'Upon', 'the', 'heath.', 'There', 'to', 'meet', 'with', 'Macbeth.', 'I', 'come,', 'Graymalkin!']\n",
      "\n",
      "Metrics\n",
      "\n",
      "The cleaned Macbeth corpus has a total of 2029 lines and 13675 tokens.\n",
      "The lines have an average of 6.739773287333662 tokens.\n"
     ]
    }
   ],
   "source": [
    "corpus = macbeth.copy()\n",
    "corpus_name = 'Macbeth'\n",
    "\n",
    "macbeth_clean = clean_prep_corpus(corpus)\n",
    "metrics = get_corpus_metrics(macbeth_clean, corpus_name)"
   ]
  },
  {
   "cell_type": "markdown",
   "metadata": {},
   "source": [
    "## Define training and validation sets"
   ]
  },
  {
   "cell_type": "code",
   "execution_count": 155,
   "metadata": {},
   "outputs": [],
   "source": [
    "# batch 1 - Hamlet\n",
    "train_batch1 = hamlet_clean[:1001] # first batch for training containing 1000 sentences (approx 7526 tokens)\n",
    "\n",
    "# batch 2 - Hamlet + Macbeth\n",
    "dataset = macbeth_clean + hamlet_clean\n",
    "train_batch2 = dataset[:4001] # 4000 pairs, about half-half from each corpus\n",
    "validate_batch2 = dataset[4001: 5001] # 1000 - from Hamlet"
   ]
  },
  {
   "cell_type": "code",
   "execution_count": 156,
   "metadata": {},
   "outputs": [],
   "source": [
    "# create prompt-completion pairs and save as jsonlines\n",
    "\n",
    "def generate_pairs(batch):\n",
    "    pairs_list = []\n",
    "    for line in batch:\n",
    "        train_line_dict = {'prompt':'', 'completion':line}\n",
    "        pairs_list.append(train_line_dict)\n",
    "    \n",
    "    print(pairs_list[:20])\n",
    "    return pairs_list\n",
    "\n",
    "\n",
    "def save_as_jsonlines(pairs_list, path):\n",
    "    with jsonlines.open(path, 'w') as writer:\n",
    "        writer.write_all(pairs_list)\n",
    "    print(f\"Dataset saved at {path}\")"
   ]
  },
  {
   "cell_type": "code",
   "execution_count": 159,
   "metadata": {},
   "outputs": [
    {
     "name": "stdout",
     "output_type": "stream",
     "text": [
      "[{'prompt': '', 'completion': ' And what’s in prayer but this twofold force,\\n'}, {'prompt': '', 'completion': ' To be forestalled ere we come to fall,\\n'}, {'prompt': '', 'completion': ' My fault is past. But O, what form of prayer\\n'}, {'prompt': '', 'completion': ' That cannot be; since I am still possess’d\\n'}, {'prompt': '', 'completion': ' My crown, mine own ambition, and my queen.\\n'}, {'prompt': '', 'completion': ' May one be pardon’d and retain th’offence?\\n'}, {'prompt': '', 'completion': ' In the corrupted currents of this world\\n'}, {'prompt': '', 'completion': ' Offence’s gilded hand may shove by justice,\\n'}, {'prompt': '', 'completion': ' And oft ’tis seen the wicked prize itself\\n'}, {'prompt': '', 'completion': ' There is no shuffling, there the action lies\\n'}, {'prompt': '', 'completion': ' In his true nature, and we ourselves compell’d\\n'}, {'prompt': '', 'completion': ' Even to the teeth and forehead of our faults,\\n'}, {'prompt': '', 'completion': ' Try what repentance can. What can it not?\\n'}, {'prompt': '', 'completion': ' Yet what can it, when one cannot repent?\\n'}, {'prompt': '', 'completion': ' O limed soul, that struggling to be free,\\n'}, {'prompt': '', 'completion': ' Bow, stubborn knees; and heart with strings of steel,\\n'}, {'prompt': '', 'completion': ' Be soft as sinews of the new-born babe.\\n'}, {'prompt': '', 'completion': ' All may be well.\\n'}, {'prompt': '', 'completion': '  Enter Hamlet.\\n'}, {'prompt': '', 'completion': ' Now might I do it pat, now he is praying.\\n'}]\n",
      "Dataset saved at ../data/hamlet_macbeth_validate_batch2.jsonl\n"
     ]
    }
   ],
   "source": [
    "batch_pairs = generate_pairs(validate_batch2)\n",
    "saved_pairs = save_as_jsonlines(batch_pairs, '../data/hamlet_macbeth_validate_batch2.jsonl')"
   ]
  },
  {
   "cell_type": "code",
   "execution_count": null,
   "metadata": {},
   "outputs": [],
   "source": []
  }
 ],
 "metadata": {
  "kernelspec": {
   "display_name": "chatbot",
   "language": "python",
   "name": "chatbot"
  },
  "language_info": {
   "codemirror_mode": {
    "name": "ipython",
    "version": 3
   },
   "file_extension": ".py",
   "mimetype": "text/x-python",
   "name": "python",
   "nbconvert_exporter": "python",
   "pygments_lexer": "ipython3",
   "version": "3.9.7"
  },
  "orig_nbformat": 4
 },
 "nbformat": 4,
 "nbformat_minor": 2
}
