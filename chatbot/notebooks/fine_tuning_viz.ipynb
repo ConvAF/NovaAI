{
 "cells": [
  {
   "cell_type": "code",
   "execution_count": 3,
   "metadata": {},
   "outputs": [
    {
     "name": "stdout",
     "output_type": "stream",
     "text": [
      "Collecting matplotlib\n",
      "  Using cached matplotlib-3.5.1-cp39-cp39-macosx_10_9_x86_64.whl (7.3 MB)\n",
      "Requirement already satisfied: packaging>=20.0 in /Users/alois/Desktop/DSR/Project/chatbot/venv/lib/python3.9/site-packages (from matplotlib) (21.3)\n",
      "Requirement already satisfied: numpy>=1.17 in /Users/alois/Desktop/DSR/Project/chatbot/venv/lib/python3.9/site-packages (from matplotlib) (1.22.3)\n",
      "Collecting kiwisolver>=1.0.1\n",
      "  Downloading kiwisolver-1.4.2-cp39-cp39-macosx_10_9_x86_64.whl (65 kB)\n",
      "\u001b[2K     \u001b[90m━━━━━━━━━━━━━━━━━━━━━━━━━━━━━━━━━━━━━━━\u001b[0m \u001b[32m65.3/65.3 KB\u001b[0m \u001b[31m343.3 kB/s\u001b[0m eta \u001b[36m0:00:00\u001b[0ma \u001b[36m0:00:01\u001b[0m\n",
      "\u001b[?25hRequirement already satisfied: pyparsing>=2.2.1 in /Users/alois/Desktop/DSR/Project/chatbot/venv/lib/python3.9/site-packages (from matplotlib) (3.0.7)\n",
      "Collecting fonttools>=4.22.0\n",
      "  Downloading fonttools-4.31.2-py3-none-any.whl (899 kB)\n",
      "\u001b[2K     \u001b[90m━━━━━━━━━━━━━━━━━━━━━━━━━━━━━━━━━━━━━\u001b[0m \u001b[32m899.5/899.5 KB\u001b[0m \u001b[31m417.7 kB/s\u001b[0m eta \u001b[36m0:00:00\u001b[0m00:01\u001b[0m00:01\u001b[0m\n",
      "\u001b[?25hRequirement already satisfied: python-dateutil>=2.7 in /Users/alois/Desktop/DSR/Project/chatbot/venv/lib/python3.9/site-packages (from matplotlib) (2.8.2)\n",
      "Collecting pillow>=6.2.0\n",
      "  Downloading Pillow-9.1.0-cp39-cp39-macosx_10_9_x86_64.whl (3.1 MB)\n",
      "\u001b[2K     \u001b[90m━━━━━━━━━━━━━━━━━━━━━━━━━━━━━━━━━━━━━━━━\u001b[0m \u001b[32m3.1/3.1 MB\u001b[0m \u001b[31m426.3 kB/s\u001b[0m eta \u001b[36m0:00:00\u001b[0m00:01\u001b[0m00:01\u001b[0m\n",
      "\u001b[?25hCollecting cycler>=0.10\n",
      "  Using cached cycler-0.11.0-py3-none-any.whl (6.4 kB)\n",
      "Requirement already satisfied: six>=1.5 in /Users/alois/Desktop/DSR/Project/chatbot/venv/lib/python3.9/site-packages (from python-dateutil>=2.7->matplotlib) (1.16.0)\n",
      "Installing collected packages: pillow, kiwisolver, fonttools, cycler, matplotlib\n",
      "Successfully installed cycler-0.11.0 fonttools-4.31.2 kiwisolver-1.4.2 matplotlib-3.5.1 pillow-9.1.0\n",
      "Note: you may need to restart the kernel to use updated packages.\n"
     ]
    }
   ],
   "source": [
    "# pip install matplotlib"
   ]
  },
  {
   "cell_type": "code",
   "execution_count": 18,
   "metadata": {},
   "outputs": [],
   "source": [
    "import pandas as pd\n",
    "import matplotlib.pyplot as plt"
   ]
  },
  {
   "cell_type": "markdown",
   "metadata": {},
   "source": [
    "## Plot losses"
   ]
  },
  {
   "cell_type": "code",
   "execution_count": 114,
   "metadata": {},
   "outputs": [],
   "source": [
    "def format_df(df, n_epochs, validation_set=True):\n",
    "    \"\"\"\n",
    "    Format/summarize original batch_result.csv into performance per epoch.\n",
    "    \"\"\"\n",
    "    if validation_set:\n",
    "        df = df[[\"training_loss\", \"validation_loss\"]]\n",
    "    else:\n",
    "        df = df[[\"training_loss\"]]\n",
    "    step = round((len(df)-1) / n_epochs) # if step = 50, 1 epoch will be completed every 50 steps.\n",
    "    plot_df = df.iloc[::step]\n",
    "    plot_df = plot_df.reset_index(drop=True)\n",
    "    plot_df = plot_df.rename_axis('epoch').reset_index()\n",
    "\n",
    "    return plot_df\n",
    "\n",
    "\n",
    "def plot_losses(formatted_df, validation_set=True):\n",
    "    plt.plot(formatted_df[\"training_loss\"], label=\"train_loss\")\n",
    "    if validation_set:\n",
    "        plt.plot(formatted_df[\"validation_loss\"], label=\"val_loss\")\n",
    "    plt.legend()\n",
    "    plt.title(\"Losses\")\n",
    "    plt.show()"
   ]
  },
  {
   "cell_type": "markdown",
   "metadata": {},
   "source": [
    "### Batch 1\n",
    "\n",
    "- corpus: Hamlet\n",
    "- model='ada'\n",
    "- n_training pairs=1000\n",
    "- n_epochs=4\n",
    "- batch_size=2\n",
    "- learning_rate=unknown (0.5, 0.1 or 0.2)"
   ]
  },
  {
   "cell_type": "code",
   "execution_count": 131,
   "metadata": {},
   "outputs": [
    {
     "data": {
      "image/png": "[encoded data removed]",
      "text/plain": [
       "<Figure size 432x288 with 1 Axes>"
      ]
     },
     "metadata": {
      "needs_background": "light"
     },
     "output_type": "display_data"
    }
   ],
   "source": [
    "batch1_results = pd.read_csv('../data/results/batch1_results.csv', skiprows=[0])\n",
    "\n",
    "batch1 = format_df(batch1_results, n_epochs=4, validation_set=False)\n",
    "batch1_plot = plot_losses(batch1, validation_set=False)"
   ]
  },
  {
   "cell_type": "markdown",
   "metadata": {},
   "source": [
    "### Batch 2\n",
    "\n",
    "- corpus: MacBeth + Hamlet\n",
    "- model='ada'\n",
    "- n_training pairs=4000\n",
    "- n_validation pairs=1000\n",
    "- n_epochs=10\n",
    "- batch_size=80\n",
    "- learning_rate=0.1\n",
    "\n",
    "50 batches (80 * 50 = 4000)\n",
    "\n",
    "10 epochs\n",
    "\n",
    "every 50 step is 1 epoch. 10 epochs = 500 steps"
   ]
  },
  {
   "cell_type": "code",
   "execution_count": 132,
   "metadata": {},
   "outputs": [
    {
     "data": {
      "image/png": "[encoded data removed]",
      "text/plain": [
       "<Figure size 432x288 with 1 Axes>"
      ]
     },
     "metadata": {
      "needs_background": "light"
     },
     "output_type": "display_data"
    }
   ],
   "source": [
    "batch2_results = pd.read_csv('../data/results/batch2_results.csv', skiprows=[0])\n",
    "\n",
    "batch2 = format_df(batch2_results, n_epochs=10)\n",
    "batch2_plot = plot_losses(batch2)"
   ]
  },
  {
   "cell_type": "code",
   "execution_count": 128,
   "metadata": {},
   "outputs": [
    {
     "data": {
      "text/html": [
       "<div>\n",
       "<style scoped>\n",
       "    .dataframe tbody tr th:only-of-type {\n",
       "        vertical-align: middle;\n",
       "    }\n",
       "\n",
       "    .dataframe tbody tr th {\n",
       "        vertical-align: top;\n",
       "    }\n",
       "\n",
       "    .dataframe thead th {\n",
       "        text-align: right;\n",
       "    }\n",
       "</style>\n",
       "<table border=\"1\" class=\"dataframe\">\n",
       "  <thead>\n",
       "    <tr style=\"text-align: right;\">\n",
       "      <th></th>\n",
       "      <th>step</th>\n",
       "      <th>elapsed_tokens</th>\n",
       "      <th>elapsed_examples</th>\n",
       "      <th>training_loss</th>\n",
       "      <th>training_sequence_accuracy</th>\n",
       "      <th>training_token_accuracy</th>\n",
       "      <th>validation_loss</th>\n",
       "      <th>validation_sequence_accuracy</th>\n",
       "      <th>validation_token_accuracy</th>\n",
       "    </tr>\n",
       "  </thead>\n",
       "  <tbody>\n",
       "    <tr>\n",
       "      <th>count</th>\n",
       "      <td>502.000000</td>\n",
       "      <td>5.020000e+02</td>\n",
       "      <td>502.000000</td>\n",
       "      <td>502.000000</td>\n",
       "      <td>502.000000</td>\n",
       "      <td>502.000000</td>\n",
       "      <td>92.000000</td>\n",
       "      <td>92.000000</td>\n",
       "      <td>92.000000</td>\n",
       "    </tr>\n",
       "    <tr>\n",
       "      <th>mean</th>\n",
       "      <td>251.500000</td>\n",
       "      <td>5.412967e+05</td>\n",
       "      <td>20120.000000</td>\n",
       "      <td>0.546532</td>\n",
       "      <td>0.063048</td>\n",
       "      <td>0.737877</td>\n",
       "      <td>2.165060</td>\n",
       "      <td>0.000543</td>\n",
       "      <td>0.299798</td>\n",
       "    </tr>\n",
       "    <tr>\n",
       "      <th>std</th>\n",
       "      <td>145.059183</td>\n",
       "      <td>3.115901e+05</td>\n",
       "      <td>11604.734666</td>\n",
       "      <td>0.517106</td>\n",
       "      <td>0.058050</td>\n",
       "      <td>0.213263</td>\n",
       "      <td>0.426488</td>\n",
       "      <td>0.002563</td>\n",
       "      <td>0.019776</td>\n",
       "    </tr>\n",
       "    <tr>\n",
       "      <th>min</th>\n",
       "      <td>1.000000</td>\n",
       "      <td>2.000000e+03</td>\n",
       "      <td>80.000000</td>\n",
       "      <td>0.125599</td>\n",
       "      <td>0.000000</td>\n",
       "      <td>0.226177</td>\n",
       "      <td>1.340744</td>\n",
       "      <td>0.000000</td>\n",
       "      <td>0.238397</td>\n",
       "    </tr>\n",
       "    <tr>\n",
       "      <th>25%</th>\n",
       "      <td>126.250000</td>\n",
       "      <td>2.729800e+05</td>\n",
       "      <td>10100.000000</td>\n",
       "      <td>0.188337</td>\n",
       "      <td>0.000000</td>\n",
       "      <td>0.582826</td>\n",
       "      <td>1.846040</td>\n",
       "      <td>0.000000</td>\n",
       "      <td>0.288171</td>\n",
       "    </tr>\n",
       "    <tr>\n",
       "      <th>50%</th>\n",
       "      <td>251.500000</td>\n",
       "      <td>5.414000e+05</td>\n",
       "      <td>20120.000000</td>\n",
       "      <td>0.249660</td>\n",
       "      <td>0.050000</td>\n",
       "      <td>0.871069</td>\n",
       "      <td>2.131758</td>\n",
       "      <td>0.000000</td>\n",
       "      <td>0.298945</td>\n",
       "    </tr>\n",
       "    <tr>\n",
       "      <th>75%</th>\n",
       "      <td>376.750000</td>\n",
       "      <td>8.104600e+05</td>\n",
       "      <td>30140.000000</td>\n",
       "      <td>0.845238</td>\n",
       "      <td>0.112500</td>\n",
       "      <td>0.891351</td>\n",
       "      <td>2.516437</td>\n",
       "      <td>0.000000</td>\n",
       "      <td>0.312994</td>\n",
       "    </tr>\n",
       "    <tr>\n",
       "      <th>max</th>\n",
       "      <td>502.000000</td>\n",
       "      <td>1.080160e+06</td>\n",
       "      <td>40160.000000</td>\n",
       "      <td>2.154347</td>\n",
       "      <td>0.237500</td>\n",
       "      <td>0.919126</td>\n",
       "      <td>3.009240</td>\n",
       "      <td>0.012500</td>\n",
       "      <td>0.340934</td>\n",
       "    </tr>\n",
       "  </tbody>\n",
       "</table>\n",
       "</div>"
      ],
      "text/plain": [
       "             step  elapsed_tokens  elapsed_examples  training_loss  \\\n",
       "count  502.000000    5.020000e+02        502.000000     502.000000   \n",
       "mean   251.500000    5.412967e+05      20120.000000       0.546532   \n",
       "std    145.059183    3.115901e+05      11604.734666       0.517106   \n",
       "min      1.000000    2.000000e+03         80.000000       0.125599   \n",
       "25%    126.250000    2.729800e+05      10100.000000       0.188337   \n",
       "50%    251.500000    5.414000e+05      20120.000000       0.249660   \n",
       "75%    376.750000    8.104600e+05      30140.000000       0.845238   \n",
       "max    502.000000    1.080160e+06      40160.000000       2.154347   \n",
       "\n",
       "       training_sequence_accuracy  training_token_accuracy  validation_loss  \\\n",
       "count                  502.000000               502.000000        92.000000   \n",
       "mean                     0.063048                 0.737877         2.165060   \n",
       "std                      0.058050                 0.213263         0.426488   \n",
       "min                      0.000000                 0.226177         1.340744   \n",
       "25%                      0.000000                 0.582826         1.846040   \n",
       "50%                      0.050000                 0.871069         2.131758   \n",
       "75%                      0.112500                 0.891351         2.516437   \n",
       "max                      0.237500                 0.919126         3.009240   \n",
       "\n",
       "       validation_sequence_accuracy  validation_token_accuracy  \n",
       "count                     92.000000                  92.000000  \n",
       "mean                       0.000543                   0.299798  \n",
       "std                        0.002563                   0.019776  \n",
       "min                        0.000000                   0.238397  \n",
       "25%                        0.000000                   0.288171  \n",
       "50%                        0.000000                   0.298945  \n",
       "75%                        0.000000                   0.312994  \n",
       "max                        0.012500                   0.340934  "
      ]
     },
     "execution_count": 128,
     "metadata": {},
     "output_type": "execute_result"
    }
   ],
   "source": [
    "batch2.describe()"
   ]
  },
  {
   "cell_type": "code",
   "execution_count": null,
   "metadata": {},
   "outputs": [],
   "source": []
  }
 ],
 "metadata": {
  "kernelspec": {
   "display_name": "chatbot",
   "language": "python",
   "name": "chatbot"
  },
  "language_info": {
   "codemirror_mode": {
    "name": "ipython",
    "version": 3
   },
   "file_extension": ".py",
   "mimetype": "text/x-python",
   "name": "python",
   "nbconvert_exporter": "python",
   "pygments_lexer": "ipython3",
   "version": "3.9.7"
  },
  "orig_nbformat": 4
 },
 "nbformat": 4,
 "nbformat_minor": 2
}
