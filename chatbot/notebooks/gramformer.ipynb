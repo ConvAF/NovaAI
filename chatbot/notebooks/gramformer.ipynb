{
 "cells": [
  {
<<<<<<< HEAD
<<<<<<< HEAD
   "cell_type": "markdown",
   "metadata": {},
   "source": [
    "# pip install -U git+https://github.com/PrithivirajDamodaran/Gramformer.git\n",
    "# pip install gramformer\n",
    "# pip install torch\n",
    "# pip install -U \"spacy<3\"\n",
    "# ! -m spacy download en"
   ]
  },
  {
   "cell_type": "code",
   "execution_count": 7,
=======
   "cell_type": "code",
   "execution_count": null,
>>>>>>> e8ef7f6 (add grammar_correction.py)
=======
   "cell_type": "markdown",
>>>>>>> e1ce0ba (create and test class)
   "metadata": {},
   "source": [
<<<<<<< HEAD
    "from gramformer import Gramformer\n",
<<<<<<< HEAD
    "import torch\n",
    "import spacy"
   ]
  },
  {
   "cell_type": "markdown",
   "metadata": {},
   "source": [
    "### Correcter"
   ]
  },
  {
   "cell_type": "code",
   "execution_count": 63,
   "metadata": {},
   "outputs": [],
   "source": [
    "def set_seed(seed):\n",
    "    torch.manual_seed(seed)\n",
    "    if torch.cuda.is_available():\n",
    "        torch.cuda.manual_seed_all(seed)\n",
    "\n",
    "set_seed(1212)"
   ]
  },
  {
   "cell_type": "code",
   "execution_count": 64,
   "metadata": {},
   "outputs": [
    {
     "name": "stdout",
     "output_type": "stream",
     "text": [
      "[Gramformer] Grammar error correct/highlight model loaded..\n"
     ]
    }
   ],
   "source": [
    "gf = Gramformer(models = 1, use_gpu=False) # 1=corrector, 2=detector\n"
   ]
  },
  {
   "cell_type": "code",
   "execution_count": 65,
   "metadata": {},
   "outputs": [
    {
     "name": "stdout",
     "output_type": "stream",
     "text": [
      "[Input]  He are moving here. We is happy.\n",
      "[Correction]  He is moving here and we are happy.\n",
      "----------------------------------------------------------------------------------------------------\n",
      "[Input]  I am doing fine. How is you?\n",
      "[Correction]  I am doing fine. How are you?\n",
      "----------------------------------------------------------------------------------------------------\n",
      "[Input]  How is they?\n",
      "[Correction]  What are they?\n",
      "----------------------------------------------------------------------------------------------------\n",
      "[Input]  Matt like fish\n",
      "[Correction]  Matt likes fish\n",
      "----------------------------------------------------------------------------------------------------\n",
      "[Input]  the collection of letters was original used by the ancient Romans\n",
      "[Correction]  the collection of letters was originally used by the ancient Romans\n",
      "----------------------------------------------------------------------------------------------------\n",
      "[Input]  We enjoy horror movies\n",
      "[Correction]  We enjoy horror movies.\n",
      "----------------------------------------------------------------------------------------------------\n",
      "[Input]  Anna and Mike are going skiing?\n",
      "[Correction]  Are Anna and Mike going skiing?\n",
      "----------------------------------------------------------------------------------------------------\n",
      "[Input]  I walked to the store and I bought milk.\n",
      "[Correction]  I walked to the store and I bought milk.\n",
      "----------------------------------------------------------------------------------------------------\n"
     ]
    }
   ],
   "source": [
    "influent_sentences = [\n",
    "    \"He are moving here. We is happy.\",\n",
    "    \"I am doing fine. How is you?\",\n",
    "    \"How is they?\",\n",
    "    \"Matt like fish\",\n",
    "    \"the collection of letters was original used by the ancient Romans\",\n",
    "    \"We enjoy horror movies\",\n",
    "    \"Anna and Mike are going skiing?\",\n",
    "    \"I walked to the store and I bought milk.\"\n",
    "]   \n",
    "\n",
    "for influent_sentence in influent_sentences:\n",
    "    corrected_sentences = gf.correct(influent_sentence, max_candidates=1)\n",
    "    print(\"[Input] \", influent_sentence)\n",
    "    for corrected_sentence in corrected_sentences:\n",
    "        print(\"[Correction] \",corrected_sentence)\n",
    "    print(\"-\" *100)"
   ]
  },
  {
   "cell_type": "markdown",
   "metadata": {},
   "source": [
    "### Get Edits"
=======
    "import torch"
>>>>>>> e8ef7f6 (add grammar_correction.py)
=======
    "# pip install -U git+https://github.com/PrithivirajDamodaran/Gramformer.git\n",
    "# pip install gramformer\n",
    "# pip install torch\n",
    "# pip install -U \"spacy<3\"\n",
    "# ! -m spacy download en"
>>>>>>> e1ce0ba (create and test class)
   ]
  },
  {
   "cell_type": "code",
   "execution_count": 7,
   "metadata": {},
   "outputs": [],
   "source": [
    "from gramformer import Gramformer\n",
    "import torch\n",
    "import spacy"
   ]
  },
  {
   "cell_type": "markdown",
   "metadata": {},
   "source": [
    "### Correcter"
   ]
  },
  {
   "cell_type": "code",
   "execution_count": 63,
   "metadata": {},
<<<<<<< HEAD
   "outputs": [
    {
     "name": "stdout",
     "output_type": "stream",
     "text": [
      "[Gramformer] Grammar error correct/highlight model loaded..\n",
      "[Input]  He are moving here.\n",
      "[Edits]  [('VERB:SVA', 'are', 1, 2, 'is', 1, 2)]\n",
      "----------------------------------------------------------------------------------------------------\n",
      "[Input]  the collection of letters was original used by the ancient Romans\n",
      "[Edits]  [('MORPH', 'original', 5, 6, 'originally', 5, 6)]\n",
      "----------------------------------------------------------------------------------------------------\n",
      "[Input]  We enjoys horror movies\n",
      "[Edits]  [('VERB:SVA', 'enjoys', 1, 2, 'enjoy', 1, 2), ('NOUN', 'movies', 3, 4, 'movies.', 3, 4)]\n",
      "----------------------------------------------------------------------------------------------------\n",
      "[Input]  Anna and Mike is going skiing\n",
      "[Edits]  [('VERB:SVA', 'is', 3, 4, 'are', 3, 4), ('OTHER', 'skiing', 5, 6, 'skiing.', 5, 6)]\n",
      "----------------------------------------------------------------------------------------------------\n",
      "[Input]  I will eat fish for dinner and drank milk\n",
      "[Edits]  [('VERB:TENSE', 'will eat', 1, 3, 'ate', 1, 2), ('NOUN', 'milk', 8, 9, 'milk.', 7, 8)]\n",
      "----------------------------------------------------------------------------------------------------\n",
      "[Input]  what be the reason for everyone leave the comapny\n",
      "[Edits]  [('VERB:SVA', 'be', 1, 2, 'is', 1, 2), ('VERB:FORM', 'leave', 6, 7, 'leaving', 6, 7), ('SPELL', 'comapny', 8, 9, 'comapny?', 8, 9)]\n",
      "----------------------------------------------------------------------------------------------------\n"
     ]
    }
   ],
   "source": [
    "set_seed(1212)\n",
    "\n",
=======
   "outputs": [],
   "source": [
    "def set_seed(seed):\n",
    "    torch.manual_seed(seed)\n",
    "    if torch.cuda.is_available():\n",
<<<<<<< HEAD
    "    torch.cuda.manual_seed_all(seed)\n",
    "\n",
    "set_seed(1212)\n",
    "\n",
    "\n",
>>>>>>> e8ef7f6 (add grammar_correction.py)
    "gf = Gramformer(models = 1, use_gpu=False) # 1=corrector, 2=detector\n",
=======
    "        torch.cuda.manual_seed_all(seed)\n",
>>>>>>> e1ce0ba (create and test class)
    "\n",
    "set_seed(1212)"
   ]
  },
  {
   "cell_type": "code",
   "execution_count": 64,
   "metadata": {},
   "outputs": [
    {
     "name": "stdout",
     "output_type": "stream",
     "text": [
      "[Gramformer] Grammar error correct/highlight model loaded..\n"
     ]
    }
   ],
   "source": [
    "gf = Gramformer(models = 1, use_gpu=False) # 1=corrector, 2=detector\n"
   ]
  },
  {
   "cell_type": "code",
   "execution_count": 65,
   "metadata": {},
   "outputs": [
    {
     "name": "stdout",
     "output_type": "stream",
     "text": [
      "[Input]  He are moving here. We is happy.\n",
      "[Correction]  He is moving here and we are happy.\n",
      "----------------------------------------------------------------------------------------------------\n",
      "[Input]  I am doing fine. How is you?\n",
      "[Correction]  I am doing fine. How are you?\n",
      "----------------------------------------------------------------------------------------------------\n",
      "[Input]  How is they?\n",
      "[Correction]  What are they?\n",
      "----------------------------------------------------------------------------------------------------\n",
      "[Input]  Matt like fish\n",
      "[Correction]  Matt likes fish\n",
      "----------------------------------------------------------------------------------------------------\n",
      "[Input]  the collection of letters was original used by the ancient Romans\n",
      "[Correction]  the collection of letters was originally used by the ancient Romans\n",
      "----------------------------------------------------------------------------------------------------\n",
      "[Input]  We enjoy horror movies\n",
      "[Correction]  We enjoy horror movies.\n",
      "----------------------------------------------------------------------------------------------------\n",
      "[Input]  Anna and Mike are going skiing?\n",
      "[Correction]  Are Anna and Mike going skiing?\n",
      "----------------------------------------------------------------------------------------------------\n",
      "[Input]  I walked to the store and I bought milk.\n",
      "[Correction]  I walked to the store and I bought milk.\n",
      "----------------------------------------------------------------------------------------------------\n"
     ]
    }
   ],
   "source": [
    "influent_sentences = [\n",
<<<<<<< HEAD
    "    \"He are moving here.\",\n",
<<<<<<< HEAD
    "    \"the collection of letters was original used by the ancient Romans\",\n",
    "    \"We enjoys horror movies\",\n",
    "    \"Anna and Mike is going skiing\",\n",
    "    \"I will eat fish for dinner and drank milk\",\n",
    "    \"what be the reason for everyone leave the comapny\"\n",
=======
=======
    "    \"He are moving here. We is happy.\",\n",
>>>>>>> e1ce0ba (create and test class)
    "    \"I am doing fine. How is you?\",\n",
    "    \"How is they?\",\n",
    "    \"Matt like fish\",\n",
    "    \"the collection of letters was original used by the ancient Romans\",\n",
<<<<<<< HEAD
    "    \"We enjoys horror movies\",\n",
    "    \"Anna and Mike is going skiing\",\n",
    "    \"I walk to the store and I bought milk\",\n",
    "    \" We all eat the fish and then made dessert\",\n",
    "    \"I will eat fish for dinner and drink milk\",\n",
    "    \"what be the reason for everyone leave the company\",\n",
>>>>>>> e8ef7f6 (add grammar_correction.py)
=======
    "    \"We enjoy horror movies\",\n",
    "    \"Anna and Mike are going skiing?\",\n",
    "    \"I walked to the store and I bought milk.\"\n",
>>>>>>> e1ce0ba (create and test class)
    "]   \n",
    "\n",
    "for influent_sentence in influent_sentences:\n",
    "    corrected_sentences = gf.correct(influent_sentence, max_candidates=1)\n",
    "    print(\"[Input] \", influent_sentence)\n",
    "    for corrected_sentence in corrected_sentences:\n",
<<<<<<< HEAD
<<<<<<< HEAD
    "      print(\"[Edits] \", gf.get_edits(influent_sentence, corrected_sentence))\n",
    "    print(\"-\" *100)"
   ]
  },
  {
   "cell_type": "markdown",
   "metadata": {},
   "source": [
    "### Customize to our needs"
   ]
  },
  {
   "cell_type": "code",
   "execution_count": 59,
   "metadata": {},
   "outputs": [
    {
     "name": "stdout",
     "output_type": "stream",
     "text": [
      "[Gramformer] Grammar error correct/highlight model loaded..\n"
     ]
    }
   ],
   "source": [
    "def set_seed(seed):\n",
    "    torch.manual_seed(seed)\n",
    "    if torch.cuda.is_available():\n",
    "        torch.cuda.manual_seed_all(seed)\n",
    "\n",
    "set_seed(1212)\n",
    "\n",
    "\n",
    "gf = Gramformer(models = 1, use_gpu=False) # 1=corrector, 2=detector\n",
    "\n",
    "def grammar_correction(user_input):\n",
    "\n",
    "    corrected_sentence = gf.correct(user_input, max_candidates=1)\n",
    "    corrected_sentence = list(corrected_sentence)[0] # make set into string\n",
    "    print(type(corrected_sentence))\n",
    "\n",
    "    if corrected_sentence != user_input:\n",
    "        correction_message = f\"[Correction] {corrected_sentence}\"\n",
    "        print(correction_message)\n",
    "\n",
    "    return corrected_sentence, correction_message\n",
    "    "
   ]
  },
  {
   "cell_type": "code",
   "execution_count": 60,
   "metadata": {},
   "outputs": [],
   "source": [
    "ex1 = \"I is to the store. I buy chocolate. I see u tomorrow\""
   ]
  },
  {
   "cell_type": "code",
   "execution_count": 61,
   "metadata": {},
   "outputs": [
    {
     "name": "stdout",
     "output_type": "stream",
     "text": [
      "<class 'str'>\n",
      "[Correction] I went to the store. I bought chocolate. I see u tomorrow.\n"
     ]
    },
    {
     "data": {
      "text/plain": [
       "('I went to the store. I bought chocolate. I see u tomorrow.',\n",
       " '[Correction] I went to the store. I bought chocolate. I see u tomorrow.')"
      ]
     },
     "execution_count": 61,
     "metadata": {},
     "output_type": "execute_result"
    }
   ],
   "source": [
    "correction = grammar_correction(ex1)\n",
    "correction"
   ]
  },
  {
   "cell_type": "markdown",
   "metadata": {},
   "source": [
    "### Class"
   ]
  },
  {
   "cell_type": "code",
   "execution_count": 88,
   "metadata": {},
   "outputs": [],
   "source": [
    "class GrammarModel(Gramformer):\n",
    "    \"\"\"\n",
    "    \"\"\"\n",
    "    def __init__(self, models=1, use_gpu=False, seed=1212):\n",
    "        self.gf = super().__init__(models=1, use_gpu=False)\n",
    "        self.seed = seed\n",
    "        set_seed(self.seed)\n",
    "\n",
    "\n",
    "    def set_seed(self, seed):\n",
    "        torch.manual_seed(seed)\n",
    "        if torch.cuda.is_available():\n",
    "            torch.cuda.manual_seed_all(seed)\n",
    "\n",
    "\n",
    "    def grammar_correction(self, user_input):\n",
    "        \"\"\"\n",
    "        Generate a corrected sentence and a message to the user with the correction.\n",
    "        \"\"\"\n",
    "\n",
    "        corrected_sentence = self.correct(user_input, max_candidates=1)\n",
    "        corrected_sentence = list(corrected_sentence)[0]\n",
    "\n",
    "        if corrected_sentence != user_input:\n",
    "            correction_message = f\"[Correction] {corrected_sentence}\"\n",
    "            print(correction_message)\n",
    "\n",
    "        return corrected_sentence, correction_message\n",
    "\n",
    "\n",
    "    def add_correction_to_chat_history(self, chat_history):\n",
    "        \"\"\"\n",
    "        Append the message to the user to the chat history.\n",
    "        Return the corrected sentence ( to be used as input )\n",
    "        \"\"\"\n",
    "        pass\n",
    "\n",
    "    def _get_edits(self, user_input, corrected_sentence):\n",
    "        user_input = self.annotator.parse(user_input)\n",
    "        corrected_sentence = self.annotator.parse(corrected_sentence)\n",
    "        alignment = self.annotator.align(user_input, corrected_sentence)\n",
    "        edits = self.annotator.merge(alignment)\n",
    "\n",
    "        if len(edits) == 0:  \n",
    "            return []\n",
    "\n",
    "        edit_annotations = []\n",
    "        for e in edits:\n",
    "            e = self.annotator.classify(e)\n",
    "            edit_annotations.append(e.type[2:])\n",
    "                \n",
    "        if len(edit_annotations) > 0:\n",
    "            return edit_annotations\n",
    "        else:    \n",
    "            return []\n"
   ]
  },
  {
   "cell_type": "code",
   "execution_count": 89,
   "metadata": {},
   "outputs": [
    {
     "name": "stdout",
     "output_type": "stream",
     "text": [
      "[Gramformer] Grammar error correct/highlight model loaded..\n"
     ]
    }
   ],
   "source": [
    "gm = GrammarModel(models = 1, use_gpu=False) # 1=corrector, 2=detector\n"
   ]
  },
  {
   "cell_type": "code",
   "execution_count": 90,
   "metadata": {},
   "outputs": [
    {
     "name": "stdout",
     "output_type": "stream",
     "text": [
      "[Correction] I am in the store. I buy chocolate. I see you tomorrow.\n"
     ]
    }
   ],
   "source": [
    "correct_sentence, message = gm.grammar_correction(ex1)"
   ]
  },
  {
   "cell_type": "code",
   "execution_count": 91,
   "metadata": {},
   "outputs": [
    {
     "data": {
      "text/plain": [
       "['VERB:SVA', 'PREP', 'OTHER', 'NOUN']"
      ]
     },
     "execution_count": 91,
     "metadata": {},
     "output_type": "execute_result"
    }
   ],
   "source": [
    "error_types = gm.get_edits(ex1, correct_sentence)\n",
    "error_types"
   ]
  },
  {
   "cell_type": "code",
   "execution_count": null,
   "metadata": {},
   "outputs": [],
   "source": []
=======
    "      print(\"[Correction] \",corrected_sentence)\n",
    "    print(\"-\" *100)"
   ]
>>>>>>> e8ef7f6 (add grammar_correction.py)
=======
    "        print(\"[Correction] \",corrected_sentence)\n",
    "    print(\"-\" *100)"
   ]
  },
  {
   "cell_type": "markdown",
   "metadata": {},
   "source": [
    "### Get Edits"
   ]
  },
  {
   "cell_type": "code",
   "execution_count": null,
   "metadata": {},
   "outputs": [
    {
     "name": "stdout",
     "output_type": "stream",
     "text": [
      "[Gramformer] Grammar error correct/highlight model loaded..\n",
      "[Input]  He are moving here.\n",
      "[Edits]  [('VERB:SVA', 'are', 1, 2, 'is', 1, 2)]\n",
      "----------------------------------------------------------------------------------------------------\n",
      "[Input]  the collection of letters was original used by the ancient Romans\n",
      "[Edits]  [('MORPH', 'original', 5, 6, 'originally', 5, 6)]\n",
      "----------------------------------------------------------------------------------------------------\n",
      "[Input]  We enjoys horror movies\n",
      "[Edits]  [('VERB:SVA', 'enjoys', 1, 2, 'enjoy', 1, 2), ('NOUN', 'movies', 3, 4, 'movies.', 3, 4)]\n",
      "----------------------------------------------------------------------------------------------------\n",
      "[Input]  Anna and Mike is going skiing\n",
      "[Edits]  [('VERB:SVA', 'is', 3, 4, 'are', 3, 4), ('OTHER', 'skiing', 5, 6, 'skiing.', 5, 6)]\n",
      "----------------------------------------------------------------------------------------------------\n",
      "[Input]  I will eat fish for dinner and drank milk\n",
      "[Edits]  [('VERB:TENSE', 'will eat', 1, 3, 'ate', 1, 2), ('NOUN', 'milk', 8, 9, 'milk.', 7, 8)]\n",
      "----------------------------------------------------------------------------------------------------\n",
      "[Input]  what be the reason for everyone leave the comapny\n",
      "[Edits]  [('VERB:SVA', 'be', 1, 2, 'is', 1, 2), ('VERB:FORM', 'leave', 6, 7, 'leaving', 6, 7), ('SPELL', 'comapny', 8, 9, 'comapny?', 8, 9)]\n",
      "----------------------------------------------------------------------------------------------------\n"
     ]
    }
   ],
   "source": [
    "set_seed(1212)\n",
    "\n",
    "gf = Gramformer(models = 1, use_gpu=False) # 1=corrector, 2=detector\n",
    "\n",
    "influent_sentences = [\n",
    "    \"He are moving here.\",\n",
    "    \"the collection of letters was original used by the ancient Romans\",\n",
    "    \"We enjoys horror movies\",\n",
    "    \"Anna and Mike is going skiing\",\n",
    "    \"I will eat fish for dinner and drank milk\",\n",
    "    \"what be the reason for everyone leave the comapny\"\n",
    "]   \n",
    "\n",
    "for influent_sentence in influent_sentences:\n",
    "    corrected_sentences = gf.correct(influent_sentence, max_candidates=1)\n",
    "    print(\"[Input] \", influent_sentence)\n",
    "    for corrected_sentence in corrected_sentences:\n",
    "      print(\"[Edits] \", gf.get_edits(influent_sentence, corrected_sentence))\n",
    "    print(\"-\" *100)"
   ]
  },
  {
   "cell_type": "markdown",
   "metadata": {},
   "source": [
    "### Customize to our needs"
   ]
  },
  {
   "cell_type": "code",
   "execution_count": 59,
   "metadata": {},
   "outputs": [
    {
     "name": "stdout",
     "output_type": "stream",
     "text": [
      "[Gramformer] Grammar error correct/highlight model loaded..\n"
     ]
    }
   ],
   "source": [
    "def set_seed(seed):\n",
    "    torch.manual_seed(seed)\n",
    "    if torch.cuda.is_available():\n",
    "        torch.cuda.manual_seed_all(seed)\n",
    "\n",
    "set_seed(1212)\n",
    "\n",
    "\n",
    "gf = Gramformer(models = 1, use_gpu=False) # 1=corrector, 2=detector\n",
    "\n",
    "def grammar_correction(user_input):\n",
    "\n",
    "    corrected_sentence = gf.correct(user_input, max_candidates=1)\n",
    "    corrected_sentence = list(corrected_sentence)[0] # make set into string\n",
    "    print(type(corrected_sentence))\n",
    "\n",
    "    if corrected_sentence != user_input:\n",
    "        correction_message = f\"[Correction] {corrected_sentence}\"\n",
    "        print(correction_message)\n",
    "\n",
    "    return corrected_sentence, correction_message\n",
    "    "
   ]
  },
  {
   "cell_type": "code",
   "execution_count": 60,
   "metadata": {},
   "outputs": [],
   "source": [
    "ex1 = \"I is to the store. I buy chocolate. I see u tomorrow\""
   ]
  },
  {
   "cell_type": "code",
   "execution_count": 61,
   "metadata": {},
   "outputs": [
    {
     "name": "stdout",
     "output_type": "stream",
     "text": [
      "<class 'str'>\n",
      "[Correction] I went to the store. I bought chocolate. I see u tomorrow.\n"
     ]
    },
    {
     "data": {
      "text/plain": [
       "('I went to the store. I bought chocolate. I see u tomorrow.',\n",
       " '[Correction] I went to the store. I bought chocolate. I see u tomorrow.')"
      ]
     },
     "execution_count": 61,
     "metadata": {},
     "output_type": "execute_result"
    }
   ],
   "source": [
    "correction = grammar_correction(ex1)\n",
    "correction"
   ]
  },
  {
   "cell_type": "markdown",
   "metadata": {},
   "source": [
    "### Class"
   ]
  },
  {
   "cell_type": "code",
   "execution_count": 78,
   "metadata": {},
   "outputs": [],
   "source": [
    "class GrammarModel(Gramformer):\n",
    "    \"\"\"\n",
    "    \"\"\"\n",
    "    def __init__(self, models=1, use_gpu=False, seed=1212):\n",
    "        self.gf = Gramformer.__init__(self, models=1, use_gpu=False)\n",
    "        self.seed = seed\n",
    "        set_seed(self.seed)\n",
    "\n",
    "\n",
    "    def set_seed(self, seed):\n",
    "        torch.manual_seed(seed)\n",
    "        if torch.cuda.is_available():\n",
    "            torch.cuda.manual_seed_all(seed)\n",
    "\n",
    "\n",
    "    def grammar_correction(self, user_input):\n",
    "        \"\"\"\n",
    "        Generate a corrected sentence and a message to the user with the correction.\n",
    "        \"\"\"\n",
    "\n",
    "        corrected_sentence = self.correct(user_input, max_candidates=1)\n",
    "        corrected_sentence = list(corrected_sentence)[0]\n",
    "\n",
    "        if corrected_sentence != user_input:\n",
    "            correction_message = f\"[Correction] {corrected_sentence}\"\n",
    "            print(correction_message)\n",
    "\n",
    "        return corrected_sentence, correction_message\n",
    "\n",
    "\n",
    "    def add_correction_to_chat_history(self, chat_history):\n",
    "        \"\"\"\n",
    "        Append the message to the user to the chat history.\n",
    "        Return the corrected sentence ( to be used as input )\n",
    "        \"\"\"\n",
    "        pass\n",
    "\n",
    "    def _get_edits(self, user_input, corrected_sentence):\n",
    "        user_input = self.annotator.parse(user_input)\n",
    "        corrected_sentence = self.annotator.parse(corrected_sentence)\n",
    "        alignment = self.annotator.align(user_input, corrected_sentence)\n",
    "        edits = self.annotator.merge(alignment)\n",
    "\n",
    "        if len(edits) == 0:  \n",
    "            return []\n",
    "\n",
    "        edit_annotations = []\n",
    "        for e in edits:\n",
    "            e = self.annotator.classify(e)\n",
    "            edit_annotations.append(e.type[2:])\n",
    "                \n",
    "        if len(edit_annotations) > 0:\n",
    "            return edit_annotations\n",
    "        else:    \n",
    "            return []\n"
   ]
  },
  {
   "cell_type": "code",
   "execution_count": 79,
   "metadata": {},
   "outputs": [
    {
     "name": "stdout",
     "output_type": "stream",
     "text": [
      "[Gramformer] Grammar error correct/highlight model loaded..\n"
     ]
    }
   ],
   "source": [
    "gm = GrammarModel(models = 1, use_gpu=False) # 1=corrector, 2=detector\n"
   ]
  },
  {
   "cell_type": "code",
   "execution_count": 82,
   "metadata": {},
   "outputs": [
    {
     "name": "stdout",
     "output_type": "stream",
     "text": [
      "[Correction] I am in the store. I buy chocolate. I see you tomorrow.\n"
     ]
    }
   ],
   "source": [
    "correct_sentence, message = gm.grammar_correction(ex1)"
   ]
  },
  {
   "cell_type": "code",
   "execution_count": 85,
   "metadata": {},
   "outputs": [
    {
     "data": {
      "text/plain": [
       "['VERB:SVA', 'PREP', 'OTHER', 'NOUN']"
      ]
     },
     "execution_count": 85,
     "metadata": {},
     "output_type": "execute_result"
    }
   ],
   "source": [
    "error_types = gm.get_edits(ex1, correct_sentence)\n",
    "error_types"
   ]
  },
  {
   "cell_type": "code",
   "execution_count": 72,
   "metadata": {},
   "outputs": [
    {
     "ename": "AttributeError",
     "evalue": "'str' object has no attribute 'GrammarModel'",
     "output_type": "error",
     "traceback": [
      "\u001b[0;31m---------------------------------------------------------------------------\u001b[0m",
      "\u001b[0;31mAttributeError\u001b[0m                            Traceback (most recent call last)",
      "\u001b[1;32m/Users/alois/Desktop/DSR/Project/chatbot/chatbot/notebooks/gramformer.ipynb Cell 15'\u001b[0m in \u001b[0;36m<cell line: 1>\u001b[0;34m()\u001b[0m\n\u001b[0;32m----> <a href='vscode-notebook-cell:/Users/alois/Desktop/DSR/Project/chatbot/chatbot/notebooks/gramformer.ipynb#ch0000025?line=0'>1</a>\u001b[0m correction \u001b[39m=\u001b[39m ex1\u001b[39m.\u001b[39;49mGrammarModel\u001b[39m.\u001b[39mgrammar_correction\n",
      "\u001b[0;31mAttributeError\u001b[0m: 'str' object has no attribute 'GrammarModel'"
     ]
    }
   ],
   "source": [
    "correction = ex1.GrammarModel.grammar_correction"
   ]
  },
  {
   "cell_type": "code",
   "execution_count": null,
   "metadata": {},
   "outputs": [],
   "source": []
>>>>>>> e1ce0ba (create and test class)
  }
 ],
 "metadata": {
  "kernelspec": {
<<<<<<< HEAD
<<<<<<< HEAD
   "display_name": "chatbot",
   "language": "python",
   "name": "chatbot"
  },
  "language_info": {
   "codemirror_mode": {
    "name": "ipython",
    "version": 3
   },
   "file_extension": ".py",
   "mimetype": "text/x-python",
   "name": "python",
   "nbconvert_exporter": "python",
   "pygments_lexer": "ipython3",
   "version": "3.9.7"
=======
   "display_name": "py3.8_dsr",
   "language": "python",
   "name": "py3.8_dsr"
>>>>>>> e8ef7f6 (add grammar_correction.py)
=======
   "display_name": "chatbot",
   "language": "python",
   "name": "chatbot"
  },
  "language_info": {
   "codemirror_mode": {
    "name": "ipython",
    "version": 3
   },
   "file_extension": ".py",
   "mimetype": "text/x-python",
   "name": "python",
   "nbconvert_exporter": "python",
   "pygments_lexer": "ipython3",
   "version": "3.9.7"
>>>>>>> e1ce0ba (create and test class)
  },
  "orig_nbformat": 4
 },
 "nbformat": 4,
 "nbformat_minor": 2
}
