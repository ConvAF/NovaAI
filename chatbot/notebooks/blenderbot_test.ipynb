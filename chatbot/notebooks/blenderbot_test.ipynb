{
 "cells": [
  {
   "cell_type": "markdown",
   "metadata": {},
   "source": [
    "# Blenderbot Test\n",
    "\n",
    "Test some simple functionality of Blenderbot\n",
    "\n",
    "Resouces:\n",
    " - https://www.kaggle.com/drscarlat/chatbot-starter-fb-parlai-blenderbot\n",
    " - ParlAI Tutorial: https://colab.research.google.com/drive/1bRMvN0lGXaTF5fuTidgvlAl-Lb41F7AD#scrollTo=KtVz5dCUmFkN"
   ]
  },
  {
   "cell_type": "code",
   "execution_count": 1,
   "metadata": {},
   "outputs": [],
   "source": [
    "import numpy as np\n",
    "import pandas as pd\n",
    "\n",
    "from parlai.scripts.interactive import Interactive"
   ]
  },
  {
   "cell_type": "code",
   "execution_count": 2,
   "metadata": {},
   "outputs": [
    {
     "name": "stdout",
     "output_type": "stream",
     "text": [
      "17:58:09 | \u001b[33mOverriding opt[\"model_file\"] to /Users/frank/miniforge3/envs/chatbot/lib/python3.9/site-packages/data/models/blenderbot2/blenderbot2_400M/model (previously: /checkpoint/kshuster/projects/knowledge_bot/kbot_memfix_sweep25_Fri_Jul__9/338/model.oss)\u001b[0m\n",
      "17:58:09 | loading dictionary from /Users/frank/miniforge3/envs/chatbot/lib/python3.9/site-packages/data/models/blenderbot2/blenderbot2_400M/model.dict\n",
      "17:58:09 | num words = 50264\n",
      "17:58:09 | Downloading https://dl.fbaipublicfiles.com/fairseq/gpt2_bpe/vocab.bpe to /Users/frank/miniforge3/envs/chatbot/lib/python3.9/site-packages/data/gpt2/vocab.bpe\n"
     ]
    },
    {
     "name": "stderr",
     "output_type": "stream",
     "text": [
      "Downloading vocab.bpe: 0.00B [00:01, ?B/s]"
     ]
    },
    {
     "name": "stdout",
     "output_type": "stream",
     "text": [
      "17:58:11 | Downloading https://dl.fbaipublicfiles.com/fairseq/gpt2_bpe/encoder.json to /Users/frank/miniforge3/envs/chatbot/lib/python3.9/site-packages/data/gpt2/encoder.json\n"
     ]
    },
    {
     "name": "stderr",
     "output_type": "stream",
     "text": [
      "\n",
      "Downloading encoder.json: 0.00B [00:01, ?B/s]"
     ]
    },
    {
     "name": "stdout",
     "output_type": "stream",
     "text": [
      "17:58:12 | BlenderBot2Fid: full interactive mode on.\n"
     ]
    },
    {
     "name": "stderr",
     "output_type": "stream",
     "text": [
      "\n",
      "Downloading: 100%|██████████| 28.0/28.0 [00:00<00:00, 23.2kB/s]\n",
      "Downloading: 100%|██████████| 226k/226k [00:00<00:00, 473kB/s]  \n",
      "Downloading: 100%|██████████| 455k/455k [00:00<00:00, 942kB/s] \n",
      "Downloading: 100%|██████████| 570/570 [00:00<00:00, 413kB/s]\n"
     ]
    },
    {
     "name": "stdout",
     "output_type": "stream",
     "text": [
      "17:58:28 | building data: /Users/frank/miniforge3/envs/chatbot/lib/python3.9/site-packages/data/models/hallucination/bart_rag_token/model.tgz\n",
      "17:58:28 | Downloading http://parl.ai/downloads/_models/hallucination/bart_rag_token/model.tgz to /Users/frank/miniforge3/envs/chatbot/lib/python3.9/site-packages/data/models/hallucination/bart_rag_token/model.tgz\n"
     ]
    },
    {
     "name": "stderr",
     "output_type": "stream",
     "text": [
      "Downloading model.tgz: 100%|██████████| 950M/950M [01:19<00:00, 11.9MB/s]    \n"
     ]
    },
    {
     "name": "stdout",
     "output_type": "stream",
     "text": [
      "18:00:03 | Creating the search engine retriever.\n"
     ]
    },
    {
     "ename": "ValueError",
     "evalue": "Must provide a valid server for search",
     "output_type": "error",
     "traceback": [
      "\u001b[0;31m---------------------------------------------------------------------------\u001b[0m",
      "\u001b[0;31mValueError\u001b[0m                                Traceback (most recent call last)",
      "\u001b[1;32m/Users/frank/projects/dsr/projects/chatbot/chatbot/notebooks/blenderbot_test.ipynb Cell 3'\u001b[0m in \u001b[0;36m<cell line: 1>\u001b[0;34m()\u001b[0m\n\u001b[0;32m----> <a href='vscode-notebook-cell:/Users/frank/projects/dsr/projects/chatbot/chatbot/notebooks/blenderbot_test.ipynb#ch0000003?line=0'>1</a>\u001b[0m Interactive\u001b[39m.\u001b[39;49mmain(\n\u001b[1;32m      <a href='vscode-notebook-cell:/Users/frank/projects/dsr/projects/chatbot/chatbot/notebooks/blenderbot_test.ipynb#ch0000003?line=1'>2</a>\u001b[0m     \u001b[39m# the model_file is a filename path pointing to a particular model dump.\u001b[39;49;00m\n\u001b[1;32m      <a href='vscode-notebook-cell:/Users/frank/projects/dsr/projects/chatbot/chatbot/notebooks/blenderbot_test.ipynb#ch0000003?line=2'>3</a>\u001b[0m     \u001b[39m# Model files that begin with \"zoo:\" are special files distributed by the ParlAI team.\u001b[39;49;00m\n\u001b[1;32m      <a href='vscode-notebook-cell:/Users/frank/projects/dsr/projects/chatbot/chatbot/notebooks/blenderbot_test.ipynb#ch0000003?line=3'>4</a>\u001b[0m     \u001b[39m# They'll be automatically downloaded when you ask to use them.\u001b[39;49;00m\n\u001b[1;32m      <a href='vscode-notebook-cell:/Users/frank/projects/dsr/projects/chatbot/chatbot/notebooks/blenderbot_test.ipynb#ch0000003?line=4'>5</a>\u001b[0m     \n\u001b[1;32m      <a href='vscode-notebook-cell:/Users/frank/projects/dsr/projects/chatbot/chatbot/notebooks/blenderbot_test.ipynb#ch0000003?line=5'>6</a>\u001b[0m     \u001b[39m#model_file='zoo:blender/blender_90M/model'  # interesting and quick w/o gpu\u001b[39;49;00m\n\u001b[1;32m      <a href='vscode-notebook-cell:/Users/frank/projects/dsr/projects/chatbot/chatbot/notebooks/blenderbot_test.ipynb#ch0000003?line=6'>7</a>\u001b[0m     \u001b[39m# model_file='zoo:blender/blender_400Mdistill/model' # a bit slow w/o gpu\u001b[39;49;00m\n\u001b[1;32m      <a href='vscode-notebook-cell:/Users/frank/projects/dsr/projects/chatbot/chatbot/notebooks/blenderbot_test.ipynb#ch0000003?line=7'>8</a>\u001b[0m     \u001b[39m#model_file='zoo:blender/blender_1Bdistill/model'  # requires gpu on\u001b[39;49;00m\n\u001b[1;32m      <a href='vscode-notebook-cell:/Users/frank/projects/dsr/projects/chatbot/chatbot/notebooks/blenderbot_test.ipynb#ch0000003?line=8'>9</a>\u001b[0m     \u001b[39m# model_file='zoo:blender/blender_3B/model'  # requires gpu on, 7:30 mins dl & instl ..bigger brain = more interesting\u001b[39;49;00m\n\u001b[1;32m     <a href='vscode-notebook-cell:/Users/frank/projects/dsr/projects/chatbot/chatbot/notebooks/blenderbot_test.ipynb#ch0000003?line=9'>10</a>\u001b[0m     \u001b[39m#model_file='zoo:blender/blender_9B/model'  # get's stuck @ Kaggle... needs more gpu power than available i guess\u001b[39;49;00m\n\u001b[1;32m     <a href='vscode-notebook-cell:/Users/frank/projects/dsr/projects/chatbot/chatbot/notebooks/blenderbot_test.ipynb#ch0000003?line=10'>11</a>\u001b[0m     model_file\u001b[39m=\u001b[39;49m\u001b[39m'\u001b[39;49m\u001b[39mzoo:blenderbot2/blenderbot2_400M/model\u001b[39;49m\u001b[39m'\u001b[39;49m \u001b[39m# a bit slow w/o gpu\u001b[39;49;00m\n\u001b[1;32m     <a href='vscode-notebook-cell:/Users/frank/projects/dsr/projects/chatbot/chatbot/notebooks/blenderbot_test.ipynb#ch0000003?line=11'>12</a>\u001b[0m )\n",
      "File \u001b[0;32m~/miniforge3/envs/chatbot/lib/python3.9/site-packages/parlai/core/script.py:127\u001b[0m, in \u001b[0;36mParlaiScript.main\u001b[0;34m(cls, *args, **kwargs)\u001b[0m\n\u001b[1;32m    <a href='file:///~/miniforge3/envs/chatbot/lib/python3.9/site-packages/parlai/core/script.py?line=124'>125</a>\u001b[0m     \u001b[39mreturn\u001b[39;00m \u001b[39mcls\u001b[39m\u001b[39m.\u001b[39m_run_args(args)\n\u001b[1;32m    <a href='file:///~/miniforge3/envs/chatbot/lib/python3.9/site-packages/parlai/core/script.py?line=125'>126</a>\u001b[0m \u001b[39melif\u001b[39;00m kwargs:\n\u001b[0;32m--> <a href='file:///~/miniforge3/envs/chatbot/lib/python3.9/site-packages/parlai/core/script.py?line=126'>127</a>\u001b[0m     \u001b[39mreturn\u001b[39;00m \u001b[39mcls\u001b[39;49m\u001b[39m.\u001b[39;49m_run_kwargs(kwargs)\n\u001b[1;32m    <a href='file:///~/miniforge3/envs/chatbot/lib/python3.9/site-packages/parlai/core/script.py?line=127'>128</a>\u001b[0m \u001b[39melse\u001b[39;00m:\n\u001b[1;32m    <a href='file:///~/miniforge3/envs/chatbot/lib/python3.9/site-packages/parlai/core/script.py?line=128'>129</a>\u001b[0m     \u001b[39mreturn\u001b[39;00m \u001b[39mcls\u001b[39m\u001b[39m.\u001b[39m_run_args(\u001b[39mNone\u001b[39;00m)\n",
      "File \u001b[0;32m~/miniforge3/envs/chatbot/lib/python3.9/site-packages/parlai/core/script.py:92\u001b[0m, in \u001b[0;36mParlaiScript._run_kwargs\u001b[0;34m(cls, kwargs)\u001b[0m\n\u001b[1;32m     <a href='file:///~/miniforge3/envs/chatbot/lib/python3.9/site-packages/parlai/core/script.py?line=89'>90</a>\u001b[0m parser \u001b[39m=\u001b[39m \u001b[39mcls\u001b[39m\u001b[39m.\u001b[39msetup_args()\n\u001b[1;32m     <a href='file:///~/miniforge3/envs/chatbot/lib/python3.9/site-packages/parlai/core/script.py?line=90'>91</a>\u001b[0m opt \u001b[39m=\u001b[39m parser\u001b[39m.\u001b[39mparse_kwargs(\u001b[39m*\u001b[39m\u001b[39m*\u001b[39mkwargs)\n\u001b[0;32m---> <a href='file:///~/miniforge3/envs/chatbot/lib/python3.9/site-packages/parlai/core/script.py?line=91'>92</a>\u001b[0m \u001b[39mreturn\u001b[39;00m \u001b[39mcls\u001b[39;49m\u001b[39m.\u001b[39;49m_run_from_parser_and_opt(opt, parser)\n",
      "File \u001b[0;32m~/miniforge3/envs/chatbot/lib/python3.9/site-packages/parlai/core/script.py:108\u001b[0m, in \u001b[0;36mParlaiScript._run_from_parser_and_opt\u001b[0;34m(cls, opt, parser)\u001b[0m\n\u001b[1;32m    <a href='file:///~/miniforge3/envs/chatbot/lib/python3.9/site-packages/parlai/core/script.py?line=105'>106</a>\u001b[0m script \u001b[39m=\u001b[39m \u001b[39mcls\u001b[39m(opt)\n\u001b[1;32m    <a href='file:///~/miniforge3/envs/chatbot/lib/python3.9/site-packages/parlai/core/script.py?line=106'>107</a>\u001b[0m script\u001b[39m.\u001b[39mparser \u001b[39m=\u001b[39m parser\n\u001b[0;32m--> <a href='file:///~/miniforge3/envs/chatbot/lib/python3.9/site-packages/parlai/core/script.py?line=107'>108</a>\u001b[0m \u001b[39mreturn\u001b[39;00m script\u001b[39m.\u001b[39;49mrun()\n",
      "File \u001b[0;32m~/miniforge3/envs/chatbot/lib/python3.9/site-packages/parlai/scripts/interactive.py:118\u001b[0m, in \u001b[0;36mInteractive.run\u001b[0;34m(self)\u001b[0m\n\u001b[1;32m    <a href='file:///~/miniforge3/envs/chatbot/lib/python3.9/site-packages/parlai/scripts/interactive.py?line=116'>117</a>\u001b[0m \u001b[39mdef\u001b[39;00m \u001b[39mrun\u001b[39m(\u001b[39mself\u001b[39m):\n\u001b[0;32m--> <a href='file:///~/miniforge3/envs/chatbot/lib/python3.9/site-packages/parlai/scripts/interactive.py?line=117'>118</a>\u001b[0m     \u001b[39mreturn\u001b[39;00m interactive(\u001b[39mself\u001b[39;49m\u001b[39m.\u001b[39;49mopt)\n",
      "File \u001b[0;32m~/miniforge3/envs/chatbot/lib/python3.9/site-packages/parlai/scripts/interactive.py:84\u001b[0m, in \u001b[0;36minteractive\u001b[0;34m(opt)\u001b[0m\n\u001b[1;32m     <a href='file:///~/miniforge3/envs/chatbot/lib/python3.9/site-packages/parlai/scripts/interactive.py?line=80'>81</a>\u001b[0m     opt \u001b[39m=\u001b[39m opt\u001b[39m.\u001b[39mparse_args()\n\u001b[1;32m     <a href='file:///~/miniforge3/envs/chatbot/lib/python3.9/site-packages/parlai/scripts/interactive.py?line=82'>83</a>\u001b[0m \u001b[39m# Create model and assign it to the specified task\u001b[39;00m\n\u001b[0;32m---> <a href='file:///~/miniforge3/envs/chatbot/lib/python3.9/site-packages/parlai/scripts/interactive.py?line=83'>84</a>\u001b[0m agent \u001b[39m=\u001b[39m create_agent(opt, requireModelExists\u001b[39m=\u001b[39;49m\u001b[39mTrue\u001b[39;49;00m)\n\u001b[1;32m     <a href='file:///~/miniforge3/envs/chatbot/lib/python3.9/site-packages/parlai/scripts/interactive.py?line=84'>85</a>\u001b[0m agent\u001b[39m.\u001b[39mopt\u001b[39m.\u001b[39mlog()\n\u001b[1;32m     <a href='file:///~/miniforge3/envs/chatbot/lib/python3.9/site-packages/parlai/scripts/interactive.py?line=85'>86</a>\u001b[0m human_agent \u001b[39m=\u001b[39m LocalHumanAgent(opt)\n",
      "File \u001b[0;32m~/miniforge3/envs/chatbot/lib/python3.9/site-packages/parlai/core/agents.py:468\u001b[0m, in \u001b[0;36mcreate_agent\u001b[0;34m(opt, requireModelExists)\u001b[0m\n\u001b[1;32m    <a href='file:///~/miniforge3/envs/chatbot/lib/python3.9/site-packages/parlai/core/agents.py?line=461'>462</a>\u001b[0m     \u001b[39mraise\u001b[39;00m \u001b[39mRuntimeError\u001b[39;00m(\n\u001b[1;32m    <a href='file:///~/miniforge3/envs/chatbot/lib/python3.9/site-packages/parlai/core/agents.py?line=462'>463</a>\u001b[0m         \u001b[39m'\u001b[39m\u001b[39mWARNING: Model file does not exist, check to make \u001b[39m\u001b[39m'\u001b[39m\n\u001b[1;32m    <a href='file:///~/miniforge3/envs/chatbot/lib/python3.9/site-packages/parlai/core/agents.py?line=463'>464</a>\u001b[0m         \u001b[39m'\u001b[39m\u001b[39msure it is correct: \u001b[39m\u001b[39m{}\u001b[39;00m\u001b[39m'\u001b[39m\u001b[39m.\u001b[39mformat(opt[\u001b[39m'\u001b[39m\u001b[39mmodel_file\u001b[39m\u001b[39m'\u001b[39m])\n\u001b[1;32m    <a href='file:///~/miniforge3/envs/chatbot/lib/python3.9/site-packages/parlai/core/agents.py?line=464'>465</a>\u001b[0m     )\n\u001b[1;32m    <a href='file:///~/miniforge3/envs/chatbot/lib/python3.9/site-packages/parlai/core/agents.py?line=465'>466</a>\u001b[0m \u001b[39m# Attempt to load the model from the model file first (this way we do\u001b[39;00m\n\u001b[1;32m    <a href='file:///~/miniforge3/envs/chatbot/lib/python3.9/site-packages/parlai/core/agents.py?line=466'>467</a>\u001b[0m \u001b[39m# not even have to specify the model name as a parameter)\u001b[39;00m\n\u001b[0;32m--> <a href='file:///~/miniforge3/envs/chatbot/lib/python3.9/site-packages/parlai/core/agents.py?line=467'>468</a>\u001b[0m model \u001b[39m=\u001b[39m create_agent_from_opt_file(opt)\n\u001b[1;32m    <a href='file:///~/miniforge3/envs/chatbot/lib/python3.9/site-packages/parlai/core/agents.py?line=468'>469</a>\u001b[0m \u001b[39mif\u001b[39;00m model \u001b[39mis\u001b[39;00m \u001b[39mnot\u001b[39;00m \u001b[39mNone\u001b[39;00m:\n\u001b[1;32m    <a href='file:///~/miniforge3/envs/chatbot/lib/python3.9/site-packages/parlai/core/agents.py?line=469'>470</a>\u001b[0m     \u001b[39mreturn\u001b[39;00m model\n",
      "File \u001b[0;32m~/miniforge3/envs/chatbot/lib/python3.9/site-packages/parlai/core/agents.py:421\u001b[0m, in \u001b[0;36mcreate_agent_from_opt_file\u001b[0;34m(opt)\u001b[0m\n\u001b[1;32m    <a href='file:///~/miniforge3/envs/chatbot/lib/python3.9/site-packages/parlai/core/agents.py?line=417'>418</a>\u001b[0m \u001b[39m# if we want to load weights from --init-model, compare opts with\u001b[39;00m\n\u001b[1;32m    <a href='file:///~/miniforge3/envs/chatbot/lib/python3.9/site-packages/parlai/core/agents.py?line=418'>419</a>\u001b[0m \u001b[39m# loaded ones\u001b[39;00m\n\u001b[1;32m    <a href='file:///~/miniforge3/envs/chatbot/lib/python3.9/site-packages/parlai/core/agents.py?line=419'>420</a>\u001b[0m compare_init_model_opts(opt, opt_from_file)\n\u001b[0;32m--> <a href='file:///~/miniforge3/envs/chatbot/lib/python3.9/site-packages/parlai/core/agents.py?line=420'>421</a>\u001b[0m \u001b[39mreturn\u001b[39;00m model_class(opt_from_file)\n",
      "File \u001b[0;32m~/miniforge3/envs/chatbot/lib/python3.9/site-packages/parlai/agents/rag/rag.py:176\u001b[0m, in \u001b[0;36mRagAgent.__init__\u001b[0;34m(self, opt, shared)\u001b[0m\n\u001b[1;32m    <a href='file:///~/miniforge3/envs/chatbot/lib/python3.9/site-packages/parlai/agents/rag/rag.py?line=172'>173</a>\u001b[0m \u001b[39mself\u001b[39m\u001b[39m.\u001b[39mretriever_query \u001b[39m=\u001b[39m opt[\u001b[39m'\u001b[39m\u001b[39mrag_retriever_query\u001b[39m\u001b[39m'\u001b[39m]\n\u001b[1;32m    <a href='file:///~/miniforge3/envs/chatbot/lib/python3.9/site-packages/parlai/agents/rag/rag.py?line=174'>175</a>\u001b[0m \u001b[39m# Super call\u001b[39;00m\n\u001b[0;32m--> <a href='file:///~/miniforge3/envs/chatbot/lib/python3.9/site-packages/parlai/agents/rag/rag.py?line=175'>176</a>\u001b[0m \u001b[39mself\u001b[39;49m\u001b[39m.\u001b[39;49m_generation_agent\u001b[39m.\u001b[39;49m\u001b[39m__init__\u001b[39;49m(\u001b[39mself\u001b[39;49m, opt, shared)  \u001b[39m# type: ignore\u001b[39;00m\n\u001b[1;32m    <a href='file:///~/miniforge3/envs/chatbot/lib/python3.9/site-packages/parlai/agents/rag/rag.py?line=176'>177</a>\u001b[0m \u001b[39mself\u001b[39m\u001b[39m.\u001b[39mrag_model_type \u001b[39m=\u001b[39m opt[\u001b[39m'\u001b[39m\u001b[39mrag_model_type\u001b[39m\u001b[39m'\u001b[39m]\n\u001b[1;32m    <a href='file:///~/miniforge3/envs/chatbot/lib/python3.9/site-packages/parlai/agents/rag/rag.py?line=178'>179</a>\u001b[0m \u001b[39mif\u001b[39;00m \u001b[39mnot\u001b[39;00m shared \u001b[39mand\u001b[39;00m \u001b[39mself\u001b[39m\u001b[39m.\u001b[39mregret:\n",
      "File \u001b[0;32m~/miniforge3/envs/chatbot/lib/python3.9/site-packages/parlai/agents/bart/bart.py:72\u001b[0m, in \u001b[0;36mBartAgent.__init__\u001b[0;34m(self, opt, shared)\u001b[0m\n\u001b[1;32m     <a href='file:///~/miniforge3/envs/chatbot/lib/python3.9/site-packages/parlai/agents/bart/bart.py?line=69'>70</a>\u001b[0m \u001b[39mif\u001b[39;00m \u001b[39mnot\u001b[39;00m shared:\n\u001b[1;32m     <a href='file:///~/miniforge3/envs/chatbot/lib/python3.9/site-packages/parlai/agents/bart/bart.py?line=70'>71</a>\u001b[0m     opt \u001b[39m=\u001b[39m \u001b[39mself\u001b[39m\u001b[39m.\u001b[39m_initialize_bart(opt)\n\u001b[0;32m---> <a href='file:///~/miniforge3/envs/chatbot/lib/python3.9/site-packages/parlai/agents/bart/bart.py?line=71'>72</a>\u001b[0m \u001b[39msuper\u001b[39;49m()\u001b[39m.\u001b[39;49m\u001b[39m__init__\u001b[39;49m(opt, shared)\n",
      "File \u001b[0;32m~/miniforge3/envs/chatbot/lib/python3.9/site-packages/parlai/core/torch_generator_agent.py:484\u001b[0m, in \u001b[0;36mTorchGeneratorAgent.__init__\u001b[0;34m(self, opt, shared)\u001b[0m\n\u001b[1;32m    <a href='file:///~/miniforge3/envs/chatbot/lib/python3.9/site-packages/parlai/core/torch_generator_agent.py?line=481'>482</a>\u001b[0m \u001b[39mself\u001b[39m\u001b[39m.\u001b[39mcriterion \u001b[39m=\u001b[39m \u001b[39mself\u001b[39m\u001b[39m.\u001b[39mbuild_criterion()\n\u001b[1;32m    <a href='file:///~/miniforge3/envs/chatbot/lib/python3.9/site-packages/parlai/core/torch_generator_agent.py?line=482'>483</a>\u001b[0m \u001b[39mwith\u001b[39;00m fsdp_utils\u001b[39m.\u001b[39mmaybe_fsdp_wrap(opt):\n\u001b[0;32m--> <a href='file:///~/miniforge3/envs/chatbot/lib/python3.9/site-packages/parlai/core/torch_generator_agent.py?line=483'>484</a>\u001b[0m     \u001b[39mself\u001b[39m\u001b[39m.\u001b[39mmodel \u001b[39m=\u001b[39m fsdp_utils\u001b[39m.\u001b[39mfsdp_wrap(\u001b[39mself\u001b[39;49m\u001b[39m.\u001b[39;49mbuild_model())\n\u001b[1;32m    <a href='file:///~/miniforge3/envs/chatbot/lib/python3.9/site-packages/parlai/core/torch_generator_agent.py?line=484'>485</a>\u001b[0m     \u001b[39mif\u001b[39;00m \u001b[39mself\u001b[39m\u001b[39m.\u001b[39mfp16 \u001b[39mand\u001b[39;00m \u001b[39mnot\u001b[39;00m fsdp_utils\u001b[39m.\u001b[39mdelay_halving(opt):\n\u001b[1;32m    <a href='file:///~/miniforge3/envs/chatbot/lib/python3.9/site-packages/parlai/core/torch_generator_agent.py?line=485'>486</a>\u001b[0m         \u001b[39mself\u001b[39m\u001b[39m.\u001b[39mmodel \u001b[39m=\u001b[39m \u001b[39mself\u001b[39m\u001b[39m.\u001b[39mmodel\u001b[39m.\u001b[39mhalf()\n",
      "File \u001b[0;32m~/miniforge3/envs/chatbot/lib/python3.9/site-packages/projects/blenderbot2/agents/blenderbot2.py:893\u001b[0m, in \u001b[0;36mBlenderBot2FidAgent.build_model\u001b[0;34m(self)\u001b[0m\n\u001b[1;32m    <a href='file:///~/miniforge3/envs/chatbot/lib/python3.9/site-packages/projects/blenderbot2/agents/blenderbot2.py?line=890'>891</a>\u001b[0m     model \u001b[39m=\u001b[39m T5BlenderBot2FidModel(\u001b[39mself\u001b[39m\u001b[39m.\u001b[39mopt, \u001b[39mself\u001b[39m\u001b[39m.\u001b[39mdict)\n\u001b[1;32m    <a href='file:///~/miniforge3/envs/chatbot/lib/python3.9/site-packages/projects/blenderbot2/agents/blenderbot2.py?line=891'>892</a>\u001b[0m \u001b[39melse\u001b[39;00m:\n\u001b[0;32m--> <a href='file:///~/miniforge3/envs/chatbot/lib/python3.9/site-packages/projects/blenderbot2/agents/blenderbot2.py?line=892'>893</a>\u001b[0m     model \u001b[39m=\u001b[39m BlenderBot2FidModel(\u001b[39mself\u001b[39;49m\u001b[39m.\u001b[39;49mopt, \u001b[39mself\u001b[39;49m\u001b[39m.\u001b[39;49mdict)\n\u001b[1;32m    <a href='file:///~/miniforge3/envs/chatbot/lib/python3.9/site-packages/projects/blenderbot2/agents/blenderbot2.py?line=893'>894</a>\u001b[0m \u001b[39mif\u001b[39;00m \u001b[39mself\u001b[39m\u001b[39m.\u001b[39mopt[\u001b[39m'\u001b[39m\u001b[39membedding_type\u001b[39m\u001b[39m'\u001b[39m] \u001b[39m!=\u001b[39m \u001b[39m'\u001b[39m\u001b[39mrandom\u001b[39m\u001b[39m'\u001b[39m:\n\u001b[1;32m    <a href='file:///~/miniforge3/envs/chatbot/lib/python3.9/site-packages/projects/blenderbot2/agents/blenderbot2.py?line=894'>895</a>\u001b[0m     \u001b[39mself\u001b[39m\u001b[39m.\u001b[39m_copy_embeddings(\n\u001b[1;32m    <a href='file:///~/miniforge3/envs/chatbot/lib/python3.9/site-packages/projects/blenderbot2/agents/blenderbot2.py?line=895'>896</a>\u001b[0m         model\u001b[39m.\u001b[39mencoder\u001b[39m.\u001b[39membeddings\u001b[39m.\u001b[39mweight, \u001b[39mself\u001b[39m\u001b[39m.\u001b[39mopt[\u001b[39m'\u001b[39m\u001b[39membedding_type\u001b[39m\u001b[39m'\u001b[39m]\n\u001b[1;32m    <a href='file:///~/miniforge3/envs/chatbot/lib/python3.9/site-packages/projects/blenderbot2/agents/blenderbot2.py?line=896'>897</a>\u001b[0m     )\n",
      "File \u001b[0;32m~/miniforge3/envs/chatbot/lib/python3.9/site-packages/projects/blenderbot2/agents/modules.py:85\u001b[0m, in \u001b[0;36mBlenderBot2RagModel.__init__\u001b[0;34m(self, opt, dictionary, retriever_shared)\u001b[0m\n\u001b[1;32m     <a href='file:///~/miniforge3/envs/chatbot/lib/python3.9/site-packages/projects/blenderbot2/agents/modules.py?line=82'>83</a>\u001b[0m \u001b[39mself\u001b[39m\u001b[39m.\u001b[39mopt \u001b[39m=\u001b[39m opt\n\u001b[1;32m     <a href='file:///~/miniforge3/envs/chatbot/lib/python3.9/site-packages/projects/blenderbot2/agents/modules.py?line=83'>84</a>\u001b[0m \u001b[39mself\u001b[39m\u001b[39m.\u001b[39mdummy_retriever \u001b[39m=\u001b[39m DummyRetriever(opt, dictionary)\n\u001b[0;32m---> <a href='file:///~/miniforge3/envs/chatbot/lib/python3.9/site-packages/projects/blenderbot2/agents/modules.py?line=84'>85</a>\u001b[0m \u001b[39mself\u001b[39m\u001b[39m.\u001b[39mretriever \u001b[39m=\u001b[39m retriever_factory(opt, dictionary, shared\u001b[39m=\u001b[39;49mretriever_shared)\n\u001b[1;32m     <a href='file:///~/miniforge3/envs/chatbot/lib/python3.9/site-packages/projects/blenderbot2/agents/modules.py?line=85'>86</a>\u001b[0m \u001b[39massert\u001b[39;00m \u001b[39mself\u001b[39m\u001b[39m.\u001b[39mretriever \u001b[39mis\u001b[39;00m \u001b[39mnot\u001b[39;00m \u001b[39mNone\u001b[39;00m\n\u001b[1;32m     <a href='file:///~/miniforge3/envs/chatbot/lib/python3.9/site-packages/projects/blenderbot2/agents/modules.py?line=86'>87</a>\u001b[0m query_encoder \u001b[39m=\u001b[39m (\n\u001b[1;32m     <a href='file:///~/miniforge3/envs/chatbot/lib/python3.9/site-packages/projects/blenderbot2/agents/modules.py?line=87'>88</a>\u001b[0m     \u001b[39mself\u001b[39m\u001b[39m.\u001b[39mretriever\u001b[39m.\u001b[39mquery_encoder\n\u001b[1;32m     <a href='file:///~/miniforge3/envs/chatbot/lib/python3.9/site-packages/projects/blenderbot2/agents/modules.py?line=88'>89</a>\u001b[0m     \u001b[39mif\u001b[39;00m \u001b[39mhasattr\u001b[39m(\u001b[39mself\u001b[39m\u001b[39m.\u001b[39mretriever, \u001b[39m'\u001b[39m\u001b[39mquery_encoder\u001b[39m\u001b[39m'\u001b[39m)\n\u001b[1;32m     <a href='file:///~/miniforge3/envs/chatbot/lib/python3.9/site-packages/projects/blenderbot2/agents/modules.py?line=89'>90</a>\u001b[0m     \u001b[39mand\u001b[39;00m opt[\u001b[39m'\u001b[39m\u001b[39mshare_search_and_memory_query_encoder\u001b[39m\u001b[39m'\u001b[39m]\n\u001b[1;32m     <a href='file:///~/miniforge3/envs/chatbot/lib/python3.9/site-packages/projects/blenderbot2/agents/modules.py?line=90'>91</a>\u001b[0m     \u001b[39melse\u001b[39;00m \u001b[39mNone\u001b[39;00m\n\u001b[1;32m     <a href='file:///~/miniforge3/envs/chatbot/lib/python3.9/site-packages/projects/blenderbot2/agents/modules.py?line=91'>92</a>\u001b[0m )\n",
      "File \u001b[0;32m~/miniforge3/envs/chatbot/lib/python3.9/site-packages/projects/blenderbot2/agents/modules.py:64\u001b[0m, in \u001b[0;36mretriever_factory\u001b[0;34m(opt, dictionary, shared)\u001b[0m\n\u001b[1;32m     <a href='file:///~/miniforge3/envs/chatbot/lib/python3.9/site-packages/projects/blenderbot2/agents/modules.py?line=61'>62</a>\u001b[0m retriever \u001b[39m=\u001b[39m RetrieverType(opt[\u001b[39m'\u001b[39m\u001b[39mrag_retriever_type\u001b[39m\u001b[39m'\u001b[39m])\n\u001b[1;32m     <a href='file:///~/miniforge3/envs/chatbot/lib/python3.9/site-packages/projects/blenderbot2/agents/modules.py?line=62'>63</a>\u001b[0m \u001b[39mif\u001b[39;00m retriever \u001b[39mis\u001b[39;00m RetrieverType\u001b[39m.\u001b[39mSEARCH_ENGINE:\n\u001b[0;32m---> <a href='file:///~/miniforge3/envs/chatbot/lib/python3.9/site-packages/projects/blenderbot2/agents/modules.py?line=63'>64</a>\u001b[0m     \u001b[39mreturn\u001b[39;00m BB2SearchQuerySearchEngineRetriever(opt, dictionary, shared\u001b[39m=\u001b[39;49mshared)\n\u001b[1;32m     <a href='file:///~/miniforge3/envs/chatbot/lib/python3.9/site-packages/projects/blenderbot2/agents/modules.py?line=64'>65</a>\u001b[0m \u001b[39melif\u001b[39;00m retriever \u001b[39mis\u001b[39;00m RetrieverType\u001b[39m.\u001b[39mSEARCH_TERM_FAISS:\n\u001b[1;32m     <a href='file:///~/miniforge3/envs/chatbot/lib/python3.9/site-packages/projects/blenderbot2/agents/modules.py?line=65'>66</a>\u001b[0m     \u001b[39mreturn\u001b[39;00m BB2SearchQueryFaissIndexRetriever(opt, dictionary, shared\u001b[39m=\u001b[39mshared)\n",
      "File \u001b[0;32m~/miniforge3/envs/chatbot/lib/python3.9/site-packages/parlai/agents/rag/retrievers.py:1140\u001b[0m, in \u001b[0;36mSearchQuerySearchEngineRetriever.__init__\u001b[0;34m(self, opt, dictionary, shared)\u001b[0m\n\u001b[1;32m   <a href='file:///~/miniforge3/envs/chatbot/lib/python3.9/site-packages/parlai/agents/rag/retrievers.py?line=1137'>1138</a>\u001b[0m \u001b[39msuper\u001b[39m()\u001b[39m.\u001b[39m\u001b[39m__init__\u001b[39m(opt, dictionary, shared)\n\u001b[1;32m   <a href='file:///~/miniforge3/envs/chatbot/lib/python3.9/site-packages/parlai/agents/rag/retrievers.py?line=1138'>1139</a>\u001b[0m \u001b[39mif\u001b[39;00m \u001b[39mnot\u001b[39;00m shared:\n\u001b[0;32m-> <a href='file:///~/miniforge3/envs/chatbot/lib/python3.9/site-packages/parlai/agents/rag/retrievers.py?line=1139'>1140</a>\u001b[0m     \u001b[39mself\u001b[39m\u001b[39m.\u001b[39msearch_client \u001b[39m=\u001b[39m \u001b[39mself\u001b[39;49m\u001b[39m.\u001b[39;49minitiate_retriever_api(opt)\n\u001b[1;32m   <a href='file:///~/miniforge3/envs/chatbot/lib/python3.9/site-packages/parlai/agents/rag/retrievers.py?line=1140'>1141</a>\u001b[0m \u001b[39melse\u001b[39;00m:\n\u001b[1;32m   <a href='file:///~/miniforge3/envs/chatbot/lib/python3.9/site-packages/parlai/agents/rag/retrievers.py?line=1141'>1142</a>\u001b[0m     \u001b[39mself\u001b[39m\u001b[39m.\u001b[39msearch_client \u001b[39m=\u001b[39m shared[\u001b[39m'\u001b[39m\u001b[39msearch_client\u001b[39m\u001b[39m'\u001b[39m]\n",
      "File \u001b[0;32m~/miniforge3/envs/chatbot/lib/python3.9/site-packages/parlai/agents/rag/retrievers.py:1151\u001b[0m, in \u001b[0;36mSearchQuerySearchEngineRetriever.initiate_retriever_api\u001b[0;34m(self, opt)\u001b[0m\n\u001b[1;32m   <a href='file:///~/miniforge3/envs/chatbot/lib/python3.9/site-packages/parlai/agents/rag/retrievers.py?line=1148'>1149</a>\u001b[0m \u001b[39mdef\u001b[39;00m \u001b[39minitiate_retriever_api\u001b[39m(\u001b[39mself\u001b[39m, opt) \u001b[39m-\u001b[39m\u001b[39m>\u001b[39m SearchEngineRetriever:\n\u001b[1;32m   <a href='file:///~/miniforge3/envs/chatbot/lib/python3.9/site-packages/parlai/agents/rag/retrievers.py?line=1149'>1150</a>\u001b[0m     logging\u001b[39m.\u001b[39minfo(\u001b[39m'\u001b[39m\u001b[39mCreating the search engine retriever.\u001b[39m\u001b[39m'\u001b[39m)\n\u001b[0;32m-> <a href='file:///~/miniforge3/envs/chatbot/lib/python3.9/site-packages/parlai/agents/rag/retrievers.py?line=1150'>1151</a>\u001b[0m     \u001b[39mreturn\u001b[39;00m SearchEngineRetriever(opt)\n",
      "File \u001b[0;32m~/miniforge3/envs/chatbot/lib/python3.9/site-packages/parlai/agents/rag/retrieve_api.py:83\u001b[0m, in \u001b[0;36mSearchEngineRetriever.__init__\u001b[0;34m(self, opt)\u001b[0m\n\u001b[1;32m     <a href='file:///~/miniforge3/envs/chatbot/lib/python3.9/site-packages/parlai/agents/rag/retrieve_api.py?line=80'>81</a>\u001b[0m \u001b[39mdef\u001b[39;00m \u001b[39m__init__\u001b[39m(\u001b[39mself\u001b[39m, opt: Opt):\n\u001b[1;32m     <a href='file:///~/miniforge3/envs/chatbot/lib/python3.9/site-packages/parlai/agents/rag/retrieve_api.py?line=81'>82</a>\u001b[0m     \u001b[39msuper\u001b[39m()\u001b[39m.\u001b[39m\u001b[39m__init__\u001b[39m(opt\u001b[39m=\u001b[39mopt)\n\u001b[0;32m---> <a href='file:///~/miniforge3/envs/chatbot/lib/python3.9/site-packages/parlai/agents/rag/retrieve_api.py?line=82'>83</a>\u001b[0m     \u001b[39mself\u001b[39m\u001b[39m.\u001b[39mserver_address \u001b[39m=\u001b[39m \u001b[39mself\u001b[39;49m\u001b[39m.\u001b[39;49m_validate_server(opt\u001b[39m.\u001b[39;49mget(\u001b[39m'\u001b[39;49m\u001b[39msearch_server\u001b[39;49m\u001b[39m'\u001b[39;49m))\n",
      "File \u001b[0;32m~/miniforge3/envs/chatbot/lib/python3.9/site-packages/parlai/agents/rag/retrieve_api.py:99\u001b[0m, in \u001b[0;36mSearchEngineRetriever._validate_server\u001b[0;34m(self, address)\u001b[0m\n\u001b[1;32m     <a href='file:///~/miniforge3/envs/chatbot/lib/python3.9/site-packages/parlai/agents/rag/retrieve_api.py?line=96'>97</a>\u001b[0m \u001b[39mdef\u001b[39;00m \u001b[39m_validate_server\u001b[39m(\u001b[39mself\u001b[39m, address):\n\u001b[1;32m     <a href='file:///~/miniforge3/envs/chatbot/lib/python3.9/site-packages/parlai/agents/rag/retrieve_api.py?line=97'>98</a>\u001b[0m     \u001b[39mif\u001b[39;00m \u001b[39mnot\u001b[39;00m address:\n\u001b[0;32m---> <a href='file:///~/miniforge3/envs/chatbot/lib/python3.9/site-packages/parlai/agents/rag/retrieve_api.py?line=98'>99</a>\u001b[0m         \u001b[39mraise\u001b[39;00m \u001b[39mValueError\u001b[39;00m(\u001b[39m'\u001b[39m\u001b[39mMust provide a valid server for search\u001b[39m\u001b[39m'\u001b[39m)\n\u001b[1;32m    <a href='file:///~/miniforge3/envs/chatbot/lib/python3.9/site-packages/parlai/agents/rag/retrieve_api.py?line=99'>100</a>\u001b[0m     \u001b[39mif\u001b[39;00m address\u001b[39m.\u001b[39mstartswith(\u001b[39m'\u001b[39m\u001b[39mhttp://\u001b[39m\u001b[39m'\u001b[39m) \u001b[39mor\u001b[39;00m address\u001b[39m.\u001b[39mstartswith(\u001b[39m'\u001b[39m\u001b[39mhttps://\u001b[39m\u001b[39m'\u001b[39m):\n\u001b[1;32m    <a href='file:///~/miniforge3/envs/chatbot/lib/python3.9/site-packages/parlai/agents/rag/retrieve_api.py?line=100'>101</a>\u001b[0m         \u001b[39mreturn\u001b[39;00m address\n",
      "\u001b[0;31mValueError\u001b[0m: Must provide a valid server for search"
     ]
    }
   ],
   "source": [
    "Interactive.main(\n",
    "    # the model_file is a filename path pointing to a particular model dump.\n",
    "    # Model files that begin with \"zoo:\" are special files distributed by the ParlAI team.\n",
    "    # They'll be automatically downloaded when you ask to use them.\n",
    "    \n",
    "    #model_file='zoo:blender/blender_90M/model'  # interesting and quick w/o gpu\n",
    "    # model_file='zoo:blender/blender_400Mdistill/model' # a bit slow w/o gpu\n",
    "    #model_file='zoo:blender/blender_1Bdistill/model'  # requires gpu on\n",
    "    # model_file='zoo:blender/blender_3B/model'  # requires gpu on, 7:30 mins dl & instl ..bigger brain = more interesting\n",
    "    #model_file='zoo:blender/blender_9B/model'  # get's stuck @ Kaggle... needs more gpu power than available i guess\n",
    "    model_file='zoo:blenderbot2/blenderbot2_400M/model' # a bit slow w/o gpu\n",
    ")"
   ]
  },
  {
   "cell_type": "code",
   "execution_count": 3,
   "metadata": {},
   "outputs": [
    {
     "name": "stdout",
     "output_type": "stream",
     "text": [
      "\u001b[0;31mInit signature:\u001b[0m \u001b[0mInteractive\u001b[0m\u001b[0;34m(\u001b[0m\u001b[0mopt\u001b[0m\u001b[0;34m:\u001b[0m \u001b[0mparlai\u001b[0m\u001b[0;34m.\u001b[0m\u001b[0mcore\u001b[0m\u001b[0;34m.\u001b[0m\u001b[0mopt\u001b[0m\u001b[0;34m.\u001b[0m\u001b[0mOpt\u001b[0m\u001b[0;34m)\u001b[0m\u001b[0;34m\u001b[0m\u001b[0;34m\u001b[0m\u001b[0m\n",
      "\u001b[0;31mDocstring:\u001b[0m      A ParlAI script is a standardized form of access.\n",
      "\u001b[0;31mFile:\u001b[0m           ~/miniforge3/envs/chatbot/lib/python3.9/site-packages/parlai/scripts/interactive.py\n",
      "\u001b[0;31mType:\u001b[0m           type\n",
      "\u001b[0;31mSubclasses:\u001b[0m     \n"
     ]
    }
   ],
   "source": []
  },
  {
   "cell_type": "code",
   "execution_count": null,
   "metadata": {},
   "outputs": [],
   "source": []
  }
 ],
 "metadata": {
  "interpreter": {
   "hash": "cc8015e61a03201b035b34b1113fcdaafe270f77fdb5ef38e87d79416051dc2f"
  },
  "kernelspec": {
   "display_name": "Python 3.9.7 ('chatbot')",
   "language": "python",
   "name": "python3"
  },
  "language_info": {
   "codemirror_mode": {
    "name": "ipython",
    "version": 3
   },
   "file_extension": ".py",
   "mimetype": "text/x-python",
   "name": "python",
   "nbconvert_exporter": "python",
   "pygments_lexer": "ipython3",
   "version": "3.9.7"
  },
  "orig_nbformat": 4
 },
 "nbformat": 4,
 "nbformat_minor": 2
}
